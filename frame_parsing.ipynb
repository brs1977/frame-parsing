{
  "nbformat": 4,
  "nbformat_minor": 0,
  "metadata": {
    "colab": {
      "name": "frame-parsing.ipynb",
      "provenance": [],
      "collapsed_sections": [],
      "toc_visible": true,
      "mount_file_id": "1drgbQavoO5C2BCKJODfWioY-ubSSfCNz",
      "authorship_tag": "ABX9TyNXbmI9cenvUsD5s3uxLLoX",
      "include_colab_link": true
    },
    "kernelspec": {
      "name": "python3",
      "display_name": "Python 3"
    },
    "accelerator": "GPU"
  },
  "cells": [
    {
      "cell_type": "markdown",
      "metadata": {
        "id": "view-in-github",
        "colab_type": "text"
      },
      "source": [
        "<a href=\"https://colab.research.google.com/github/brs1977/frame-parsing/blob/master/frame_parsing.ipynb\" target=\"_parent\"><img src=\"https://colab.research.google.com/assets/colab-badge.svg\" alt=\"Open In Colab\"/></a>"
      ]
    },
    {
      "cell_type": "markdown",
      "metadata": {
        "id": "FpVyo8jJvvS1",
        "colab_type": "text"
      },
      "source": [
        "#Setup"
      ]
    },
    {
      "cell_type": "code",
      "metadata": {
        "id": "CXTh8QzEnIRu",
        "colab_type": "code",
        "colab": {
          "base_uri": "https://localhost:8080/",
          "height": 316
        },
        "outputId": "d672a226-4241-4966-faab-b3a78a86ce46"
      },
      "source": [
        "#mystem3\n",
        "!wget http://download.cdn.yandex.net/mystem/mystem-3.0-linux3.1-64bit.tar.gz\n",
        "!tar -xvf mystem-3.0-linux3.1-64bit.tar.gz\n",
        "!cp mystem /bin"
      ],
      "execution_count": 1,
      "outputs": [
        {
          "output_type": "stream",
          "text": [
            "--2020-03-02 05:10:00--  http://download.cdn.yandex.net/mystem/mystem-3.0-linux3.1-64bit.tar.gz\n",
            "Resolving download.cdn.yandex.net (download.cdn.yandex.net)... 5.45.205.244, 5.45.205.245, 5.45.205.242, ...\n",
            "Connecting to download.cdn.yandex.net (download.cdn.yandex.net)|5.45.205.244|:80... connected.\n",
            "HTTP request sent, awaiting response... 302 Found\n",
            "Location: http://cache-mskm908.cdn.yandex.net/download.cdn.yandex.net/mystem/mystem-3.0-linux3.1-64bit.tar.gz [following]\n",
            "--2020-03-02 05:10:01--  http://cache-mskm908.cdn.yandex.net/download.cdn.yandex.net/mystem/mystem-3.0-linux3.1-64bit.tar.gz\n",
            "Resolving cache-mskm908.cdn.yandex.net (cache-mskm908.cdn.yandex.net)... 5.45.220.18, 2a02:6b8:0:2002::19\n",
            "Connecting to cache-mskm908.cdn.yandex.net (cache-mskm908.cdn.yandex.net)|5.45.220.18|:80... connected.\n",
            "HTTP request sent, awaiting response... 200 OK\n",
            "Length: 16457938 (16M) [application/octet-stream]\n",
            "Saving to: ‘mystem-3.0-linux3.1-64bit.tar.gz’\n",
            "\n",
            "mystem-3.0-linux3.1 100%[===================>]  15.70M  8.72MB/s    in 1.8s    \n",
            "\n",
            "2020-03-02 05:10:03 (8.72 MB/s) - ‘mystem-3.0-linux3.1-64bit.tar.gz’ saved [16457938/16457938]\n",
            "\n",
            "mystem\n"
          ],
          "name": "stdout"
        }
      ]
    },
    {
      "cell_type": "code",
      "metadata": {
        "id": "BnMFIwSsmyM8",
        "colab_type": "code",
        "outputId": "51c6553b-cf08-49c6-90da-db98f4181269",
        "colab": {
          "base_uri": "https://localhost:8080/",
          "height": 1000
        }
      },
      "source": [
        "#udpipe\n",
        "!git clone http://github.com/ufal/udpipe\n",
        "%cd udpipe/src\n",
        "!make \n",
        "!cp udpipe /bin\n",
        "!udpipe --help"
      ],
      "execution_count": 2,
      "outputs": [
        {
          "output_type": "stream",
          "text": [
            "Cloning into 'udpipe'...\n",
            "warning: redirecting to https://github.com/ufal/udpipe/\n",
            "remote: Enumerating objects: 136, done.\u001b[K\n",
            "remote: Counting objects: 100% (136/136), done.\u001b[K\n",
            "remote: Compressing objects: 100% (98/98), done.\u001b[K\n",
            "remote: Total 4030 (delta 56), reused 91 (delta 37), pack-reused 3894\u001b[K\n",
            "Receiving objects: 100% (4030/4030), 1.81 MiB | 14.14 MiB/s, done.\n",
            "Resolving deltas: 100% (2824/2824), done.\n",
            "/content/udpipe/src\n",
            "g++ -o .build/udpipe.linux-gcc-normal.o -MMD -MP -std=c++11 -W -Wall -mtune=generic -msse -msse2 -mfpmath=sse -fvisibility=hidden -U_FORTIFY_SOURCE -O3 -I. -c udpipe.cpp\n",
            "g++ -o .build/utils-options.linux-gcc-normal.o -MMD -MP -std=c++11 -W -Wall -mtune=generic -msse -msse2 -mfpmath=sse -fvisibility=hidden -U_FORTIFY_SOURCE -O3 -I. -c utils/options.cpp\n",
            "g++ -o .build/morphodita-derivator-derivation_formatter.linux-gcc-normal.o -MMD -MP -std=c++11 -W -Wall -mtune=generic -msse -msse2 -mfpmath=sse -fvisibility=hidden -U_FORTIFY_SOURCE -O3 -I. -c morphodita/derivator/derivation_formatter.cpp\n",
            "g++ -o .build/morphodita-derivator-derivator_dictionary.linux-gcc-normal.o -MMD -MP -std=c++11 -W -Wall -mtune=generic -msse -msse2 -mfpmath=sse -fvisibility=hidden -U_FORTIFY_SOURCE -O3 -I. -c morphodita/derivator/derivator_dictionary.cpp\n",
            "g++ -o .build/morphodita-morpho-czech_morpho.linux-gcc-normal.o -MMD -MP -std=c++11 -W -Wall -mtune=generic -msse -msse2 -mfpmath=sse -fvisibility=hidden -U_FORTIFY_SOURCE -O3 -I. -c morphodita/morpho/czech_morpho.cpp\n",
            "g++ -o .build/morphodita-morpho-english_morpho.linux-gcc-normal.o -MMD -MP -std=c++11 -W -Wall -mtune=generic -msse -msse2 -mfpmath=sse -fvisibility=hidden -U_FORTIFY_SOURCE -O3 -I. -c morphodita/morpho/english_morpho.cpp\n",
            "g++ -o .build/morphodita-morpho-english_morpho_guesser.linux-gcc-normal.o -MMD -MP -std=c++11 -W -Wall -mtune=generic -msse -msse2 -mfpmath=sse -fvisibility=hidden -U_FORTIFY_SOURCE -O3 -I. -c morphodita/morpho/english_morpho_guesser.cpp\n",
            "g++ -o .build/morphodita-morpho-external_morpho.linux-gcc-normal.o -MMD -MP -std=c++11 -W -Wall -mtune=generic -msse -msse2 -mfpmath=sse -fvisibility=hidden -U_FORTIFY_SOURCE -O3 -I. -c morphodita/morpho/external_morpho.cpp\n",
            "g++ -o .build/morphodita-morpho-generic_morpho.linux-gcc-normal.o -MMD -MP -std=c++11 -W -Wall -mtune=generic -msse -msse2 -mfpmath=sse -fvisibility=hidden -U_FORTIFY_SOURCE -O3 -I. -c morphodita/morpho/generic_morpho.cpp\n",
            "g++ -o .build/morphodita-morpho-morpho.linux-gcc-normal.o -MMD -MP -std=c++11 -W -Wall -mtune=generic -msse -msse2 -mfpmath=sse -fvisibility=hidden -U_FORTIFY_SOURCE -O3 -I. -c morphodita/morpho/morpho.cpp\n",
            "g++ -o .build/morphodita-morpho-morpho_statistical_guesser.linux-gcc-normal.o -MMD -MP -std=c++11 -W -Wall -mtune=generic -msse -msse2 -mfpmath=sse -fvisibility=hidden -U_FORTIFY_SOURCE -O3 -I. -c morphodita/morpho/morpho_statistical_guesser.cpp\n",
            "g++ -o .build/morphodita-morpho-tag_filter.linux-gcc-normal.o -MMD -MP -std=c++11 -W -Wall -mtune=generic -msse -msse2 -mfpmath=sse -fvisibility=hidden -U_FORTIFY_SOURCE -O3 -I. -c morphodita/morpho/tag_filter.cpp\n",
            "g++ -o .build/morphodita-tagger-tagger.linux-gcc-normal.o -MMD -MP -std=c++11 -W -Wall -mtune=generic -msse -msse2 -mfpmath=sse -fvisibility=hidden -U_FORTIFY_SOURCE -O3 -I. -c morphodita/tagger/tagger.cpp\n",
            "g++ -o .build/morphodita-tagset_converter-identity_tagset_converter.linux-gcc-normal.o -MMD -MP -std=c++11 -W -Wall -mtune=generic -msse -msse2 -mfpmath=sse -fvisibility=hidden -U_FORTIFY_SOURCE -O3 -I. -c morphodita/tagset_converter/identity_tagset_converter.cpp\n",
            "g++ -o .build/morphodita-tagset_converter-pdt_to_conll2009_tagset_converter.linux-gcc-normal.o -MMD -MP -std=c++11 -W -Wall -mtune=generic -msse -msse2 -mfpmath=sse -fvisibility=hidden -U_FORTIFY_SOURCE -O3 -I. -c morphodita/tagset_converter/pdt_to_conll2009_tagset_converter.cpp\n",
            "g++ -o .build/morphodita-tagset_converter-strip_lemma_comment_tagset_converter.linux-gcc-normal.o -MMD -MP -std=c++11 -W -Wall -mtune=generic -msse -msse2 -mfpmath=sse -fvisibility=hidden -U_FORTIFY_SOURCE -O3 -I. -c morphodita/tagset_converter/strip_lemma_comment_tagset_converter.cpp\n",
            "g++ -o .build/morphodita-tagset_converter-strip_lemma_id_tagset_converter.linux-gcc-normal.o -MMD -MP -std=c++11 -W -Wall -mtune=generic -msse -msse2 -mfpmath=sse -fvisibility=hidden -U_FORTIFY_SOURCE -O3 -I. -c morphodita/tagset_converter/strip_lemma_id_tagset_converter.cpp\n",
            "g++ -o .build/morphodita-tagset_converter-tagset_converter.linux-gcc-normal.o -MMD -MP -std=c++11 -W -Wall -mtune=generic -msse -msse2 -mfpmath=sse -fvisibility=hidden -U_FORTIFY_SOURCE -O3 -I. -c morphodita/tagset_converter/tagset_converter.cpp\n",
            "g++ -o .build/morphodita-tokenizer-czech_tokenizer.linux-gcc-normal.o -MMD -MP -std=c++11 -W -Wall -mtune=generic -msse -msse2 -mfpmath=sse -fvisibility=hidden -U_FORTIFY_SOURCE -O3 -I. -c morphodita/tokenizer/czech_tokenizer.cpp\n",
            "g++ -o .build/morphodita-tokenizer-english_tokenizer.linux-gcc-normal.o -MMD -MP -std=c++11 -W -Wall -mtune=generic -msse -msse2 -mfpmath=sse -fvisibility=hidden -U_FORTIFY_SOURCE -O3 -I. -c morphodita/tokenizer/english_tokenizer.cpp\n",
            "g++ -o .build/morphodita-tokenizer-generic_tokenizer.linux-gcc-normal.o -MMD -MP -std=c++11 -W -Wall -mtune=generic -msse -msse2 -mfpmath=sse -fvisibility=hidden -U_FORTIFY_SOURCE -O3 -I. -c morphodita/tokenizer/generic_tokenizer.cpp\n",
            "g++ -o .build/morphodita-tokenizer-ragel_tokenizer.linux-gcc-normal.o -MMD -MP -std=c++11 -W -Wall -mtune=generic -msse -msse2 -mfpmath=sse -fvisibility=hidden -U_FORTIFY_SOURCE -O3 -I. -c morphodita/tokenizer/ragel_tokenizer.cpp\n",
            "g++ -o .build/morphodita-tokenizer-tokenizer.linux-gcc-normal.o -MMD -MP -std=c++11 -W -Wall -mtune=generic -msse -msse2 -mfpmath=sse -fvisibility=hidden -U_FORTIFY_SOURCE -O3 -I. -c morphodita/tokenizer/tokenizer.cpp\n",
            "g++ -o .build/morphodita-tokenizer-unicode_tokenizer.linux-gcc-normal.o -MMD -MP -std=c++11 -W -Wall -mtune=generic -msse -msse2 -mfpmath=sse -fvisibility=hidden -U_FORTIFY_SOURCE -O3 -I. -c morphodita/tokenizer/unicode_tokenizer.cpp\n",
            "g++ -o .build/morphodita-tokenizer-vertical_tokenizer.linux-gcc-normal.o -MMD -MP -std=c++11 -W -Wall -mtune=generic -msse -msse2 -mfpmath=sse -fvisibility=hidden -U_FORTIFY_SOURCE -O3 -I. -c morphodita/tokenizer/vertical_tokenizer.cpp\n",
            "g++ -o .build/morphodita-version-version.linux-gcc-normal.o -MMD -MP -std=c++11 -W -Wall -mtune=generic -msse -msse2 -mfpmath=sse -fvisibility=hidden -U_FORTIFY_SOURCE -O3 -I. -c morphodita/version/version.cpp\n",
            "g++ -o .build/parsito-configuration-configuration.linux-gcc-normal.o -MMD -MP -std=c++11 -W -Wall -mtune=generic -msse -msse2 -mfpmath=sse -fvisibility=hidden -U_FORTIFY_SOURCE -O3 -I. -c parsito/configuration/configuration.cpp\n",
            "g++ -o .build/parsito-configuration-node_extractor.linux-gcc-normal.o -MMD -MP -std=c++11 -W -Wall -mtune=generic -msse -msse2 -mfpmath=sse -fvisibility=hidden -U_FORTIFY_SOURCE -O3 -I. -c parsito/configuration/node_extractor.cpp\n",
            "g++ -o .build/parsito-configuration-value_extractor.linux-gcc-normal.o -MMD -MP -std=c++11 -W -Wall -mtune=generic -msse -msse2 -mfpmath=sse -fvisibility=hidden -U_FORTIFY_SOURCE -O3 -I. -c parsito/configuration/value_extractor.cpp\n",
            "g++ -o .build/parsito-embedding-embedding.linux-gcc-normal.o -MMD -MP -std=c++11 -W -Wall -mtune=generic -msse -msse2 -mfpmath=sse -fvisibility=hidden -U_FORTIFY_SOURCE -O3 -I. -c parsito/embedding/embedding.cpp\n",
            "g++ -o .build/parsito-network-neural_network.linux-gcc-normal.o -MMD -MP -std=c++11 -W -Wall -mtune=generic -msse -msse2 -mfpmath=sse -fvisibility=hidden -U_FORTIFY_SOURCE -O3 -I. -c parsito/network/neural_network.cpp\n",
            "g++ -o .build/parsito-parser-parser.linux-gcc-normal.o -MMD -MP -std=c++11 -W -Wall -mtune=generic -msse -msse2 -mfpmath=sse -fvisibility=hidden -U_FORTIFY_SOURCE -O3 -I. -c parsito/parser/parser.cpp\n",
            "g++ -o .build/parsito-parser-parser_nn.linux-gcc-normal.o -MMD -MP -std=c++11 -W -Wall -mtune=generic -msse -msse2 -mfpmath=sse -fvisibility=hidden -U_FORTIFY_SOURCE -O3 -I. -c parsito/parser/parser_nn.cpp\n",
            "g++ -o .build/parsito-transition-transition.linux-gcc-normal.o -MMD -MP -std=c++11 -W -Wall -mtune=generic -msse -msse2 -mfpmath=sse -fvisibility=hidden -U_FORTIFY_SOURCE -O3 -I. -c parsito/transition/transition.cpp\n",
            "g++ -o .build/parsito-transition-transition_system.linux-gcc-normal.o -MMD -MP -std=c++11 -W -Wall -mtune=generic -msse -msse2 -mfpmath=sse -fvisibility=hidden -U_FORTIFY_SOURCE -O3 -I. -c parsito/transition/transition_system.cpp\n",
            "g++ -o .build/parsito-transition-transition_system_link2.linux-gcc-normal.o -MMD -MP -std=c++11 -W -Wall -mtune=generic -msse -msse2 -mfpmath=sse -fvisibility=hidden -U_FORTIFY_SOURCE -O3 -I. -c parsito/transition/transition_system_link2.cpp\n",
            "g++ -o .build/parsito-transition-transition_system_projective.linux-gcc-normal.o -MMD -MP -std=c++11 -W -Wall -mtune=generic -msse -msse2 -mfpmath=sse -fvisibility=hidden -U_FORTIFY_SOURCE -O3 -I. -c parsito/transition/transition_system_projective.cpp\n",
            "g++ -o .build/parsito-transition-transition_system_swap.linux-gcc-normal.o -MMD -MP -std=c++11 -W -Wall -mtune=generic -msse -msse2 -mfpmath=sse -fvisibility=hidden -U_FORTIFY_SOURCE -O3 -I. -c parsito/transition/transition_system_swap.cpp\n",
            "g++ -o .build/parsito-tree-tree.linux-gcc-normal.o -MMD -MP -std=c++11 -W -Wall -mtune=generic -msse -msse2 -mfpmath=sse -fvisibility=hidden -U_FORTIFY_SOURCE -O3 -I. -c parsito/tree/tree.cpp\n",
            "g++ -o .build/parsito-tree-tree_format.linux-gcc-normal.o -MMD -MP -std=c++11 -W -Wall -mtune=generic -msse -msse2 -mfpmath=sse -fvisibility=hidden -U_FORTIFY_SOURCE -O3 -I. -c parsito/tree/tree_format.cpp\n",
            "g++ -o .build/parsito-tree-tree_format_conllu.linux-gcc-normal.o -MMD -MP -std=c++11 -W -Wall -mtune=generic -msse -msse2 -mfpmath=sse -fvisibility=hidden -U_FORTIFY_SOURCE -O3 -I. -c parsito/tree/tree_format_conllu.cpp\n",
            "g++ -o .build/parsito-version-version.linux-gcc-normal.o -MMD -MP -std=c++11 -W -Wall -mtune=generic -msse -msse2 -mfpmath=sse -fvisibility=hidden -U_FORTIFY_SOURCE -O3 -I. -c parsito/version/version.cpp\n",
            "g++ -o .build/unilib-unicode.linux-gcc-normal.o -MMD -MP -std=c++11 -W -Wall -mtune=generic -msse -msse2 -mfpmath=sse -fvisibility=hidden -U_FORTIFY_SOURCE -O3 -I. -c unilib/unicode.cpp\n",
            "g++ -o .build/unilib-utf8.linux-gcc-normal.o -MMD -MP -std=c++11 -W -Wall -mtune=generic -msse -msse2 -mfpmath=sse -fvisibility=hidden -U_FORTIFY_SOURCE -O3 -I. -c unilib/utf8.cpp\n",
            "g++ -o .build/unilib-version.linux-gcc-normal.o -MMD -MP -std=c++11 -W -Wall -mtune=generic -msse -msse2 -mfpmath=sse -fvisibility=hidden -U_FORTIFY_SOURCE -O3 -I. -c unilib/version.cpp\n",
            "g++ -o .build/utils-compressor_load.linux-gcc-normal.o -MMD -MP -std=c++11 -W -Wall -mtune=generic -msse -msse2 -mfpmath=sse -fvisibility=hidden -U_FORTIFY_SOURCE -O3 -I. -c utils/compressor_load.cpp\n",
            "g++ -o .build/model-evaluator.linux-gcc-normal.o -MMD -MP -std=c++11 -W -Wall -mtune=generic -msse -msse2 -mfpmath=sse -fvisibility=hidden -U_FORTIFY_SOURCE -O3 -I. -c model/evaluator.cpp\n",
            "g++ -o .build/model-model.linux-gcc-normal.o -MMD -MP -std=c++11 -W -Wall -mtune=generic -msse -msse2 -mfpmath=sse -fvisibility=hidden -U_FORTIFY_SOURCE -O3 -I. -c model/model.cpp\n",
            "g++ -o .build/model-model_morphodita_parsito.linux-gcc-normal.o -MMD -MP -std=c++11 -W -Wall -mtune=generic -msse -msse2 -mfpmath=sse -fvisibility=hidden -U_FORTIFY_SOURCE -O3 -I. -c model/model_morphodita_parsito.cpp\n",
            "g++ -o .build/model-pipeline.linux-gcc-normal.o -MMD -MP -std=c++11 -W -Wall -mtune=generic -msse -msse2 -mfpmath=sse -fvisibility=hidden -U_FORTIFY_SOURCE -O3 -I. -c model/pipeline.cpp\n",
            "g++ -o .build/morphodita-morpho-generic_morpho_encoder.linux-gcc-normal.o -MMD -MP -std=c++11 -W -Wall -mtune=generic -msse -msse2 -mfpmath=sse -fvisibility=hidden -U_FORTIFY_SOURCE -O3 -I. -c morphodita/morpho/generic_morpho_encoder.cpp\n",
            "g++ -o .build/morphodita-morpho-morpho_statistical_guesser_encoder.linux-gcc-normal.o -MMD -MP -std=c++11 -W -Wall -mtune=generic -msse -msse2 -mfpmath=sse -fvisibility=hidden -U_FORTIFY_SOURCE -O3 -I. -c morphodita/morpho/morpho_statistical_guesser_encoder.cpp\n",
            "g++ -o .build/morphodita-morpho-morpho_statistical_guesser_trainer.linux-gcc-normal.o -MMD -MP -std=c++11 -W -Wall -mtune=generic -msse -msse2 -mfpmath=sse -fvisibility=hidden -U_FORTIFY_SOURCE -O3 -I. -c morphodita/morpho/morpho_statistical_guesser_trainer.cpp\n",
            "g++ -o .build/morphodita-morpho-raw_morpho_dictionary_reader.linux-gcc-normal.o -MMD -MP -std=c++11 -W -Wall -mtune=generic -msse -msse2 -mfpmath=sse -fvisibility=hidden -U_FORTIFY_SOURCE -O3 -I. -c morphodita/morpho/raw_morpho_dictionary_reader.cpp\n",
            "g++ -o .build/morphodita-tokenizer-czech_tokenizer_factory.linux-gcc-normal.o -MMD -MP -std=c++11 -W -Wall -mtune=generic -msse -msse2 -mfpmath=sse -fvisibility=hidden -U_FORTIFY_SOURCE -O3 -I. -c morphodita/tokenizer/czech_tokenizer_factory.cpp\n",
            "g++ -o .build/morphodita-tokenizer-czech_tokenizer_factory_encoder.linux-gcc-normal.o -MMD -MP -std=c++11 -W -Wall -mtune=generic -msse -msse2 -mfpmath=sse -fvisibility=hidden -U_FORTIFY_SOURCE -O3 -I. -c morphodita/tokenizer/czech_tokenizer_factory_encoder.cpp\n",
            "g++ -o .build/morphodita-tokenizer-generic_tokenizer_factory.linux-gcc-normal.o -MMD -MP -std=c++11 -W -Wall -mtune=generic -msse -msse2 -mfpmath=sse -fvisibility=hidden -U_FORTIFY_SOURCE -O3 -I. -c morphodita/tokenizer/generic_tokenizer_factory.cpp\n",
            "g++ -o .build/morphodita-tokenizer-generic_tokenizer_factory_encoder.linux-gcc-normal.o -MMD -MP -std=c++11 -W -Wall -mtune=generic -msse -msse2 -mfpmath=sse -fvisibility=hidden -U_FORTIFY_SOURCE -O3 -I. -c morphodita/tokenizer/generic_tokenizer_factory_encoder.cpp\n",
            "g++ -o .build/morphodita-tokenizer-gru_tokenizer.linux-gcc-normal.o -MMD -MP -std=c++11 -W -Wall -mtune=generic -msse -msse2 -mfpmath=sse -fvisibility=hidden -U_FORTIFY_SOURCE -O3 -I. -c morphodita/tokenizer/gru_tokenizer.cpp\n",
            "g++ -o .build/morphodita-tokenizer-gru_tokenizer_factory.linux-gcc-normal.o -MMD -MP -std=c++11 -W -Wall -mtune=generic -msse -msse2 -mfpmath=sse -fvisibility=hidden -U_FORTIFY_SOURCE -O3 -I. -c morphodita/tokenizer/gru_tokenizer_factory.cpp\n",
            "g++ -o .build/morphodita-tokenizer-gru_tokenizer_network.linux-gcc-normal.o -MMD -MP -std=c++11 -W -Wall -mtune=generic -msse -msse2 -mfpmath=sse -fvisibility=hidden -U_FORTIFY_SOURCE -O3 -I. -c morphodita/tokenizer/gru_tokenizer_network.cpp\n",
            "g++ -o .build/morphodita-tokenizer-gru_tokenizer_trainer.linux-gcc-normal.o -MMD -MP -std=c++11 -W -Wall -mtune=generic -msse -msse2 -mfpmath=sse -fvisibility=hidden -U_FORTIFY_SOURCE -O3 -I. -c morphodita/tokenizer/gru_tokenizer_trainer.cpp\n",
            "g++ -o .build/morphodita-tokenizer-tokenizer_factory.linux-gcc-normal.o -MMD -MP -std=c++11 -W -Wall -mtune=generic -msse -msse2 -mfpmath=sse -fvisibility=hidden -U_FORTIFY_SOURCE -O3 -I. -c morphodita/tokenizer/tokenizer_factory.cpp\n",
            "g++ -o .build/parsito-embedding-embedding_encode.linux-gcc-normal.o -MMD -MP -std=c++11 -W -Wall -mtune=generic -msse -msse2 -mfpmath=sse -fvisibility=hidden -U_FORTIFY_SOURCE -O3 -I. -c parsito/embedding/embedding_encode.cpp\n",
            "g++ -o .build/parsito-network-neural_network_trainer.linux-gcc-normal.o -MMD -MP -std=c++11 -W -Wall -mtune=generic -msse -msse2 -mfpmath=sse -fvisibility=hidden -U_FORTIFY_SOURCE -O3 -I. -c parsito/network/neural_network_trainer.cpp\n",
            "g++ -o .build/parsito-parser-parser_nn_trainer.linux-gcc-normal.o -MMD -MP -std=c++11 -W -Wall -mtune=generic -msse -msse2 -mfpmath=sse -fvisibility=hidden -U_FORTIFY_SOURCE -O3 -I. -c parsito/parser/parser_nn_trainer.cpp\n",
            "g++ -o .build/sentence-input_format.linux-gcc-normal.o -MMD -MP -std=c++11 -W -Wall -mtune=generic -msse -msse2 -mfpmath=sse -fvisibility=hidden -U_FORTIFY_SOURCE -O3 -I. -c sentence/input_format.cpp\n",
            "g++ -o .build/sentence-output_format.linux-gcc-normal.o -MMD -MP -std=c++11 -W -Wall -mtune=generic -msse -msse2 -mfpmath=sse -fvisibility=hidden -U_FORTIFY_SOURCE -O3 -I. -c sentence/output_format.cpp\n",
            "g++ -o .build/sentence-sentence.linux-gcc-normal.o -MMD -MP -std=c++11 -W -Wall -mtune=generic -msse -msse2 -mfpmath=sse -fvisibility=hidden -U_FORTIFY_SOURCE -O3 -I. -c sentence/sentence.cpp\n",
            "g++ -o .build/sentence-token.linux-gcc-normal.o -MMD -MP -std=c++11 -W -Wall -mtune=generic -msse -msse2 -mfpmath=sse -fvisibility=hidden -U_FORTIFY_SOURCE -O3 -I. -c sentence/token.cpp\n",
            "g++ -o .build/tokenizer-detokenizer.linux-gcc-normal.o -MMD -MP -std=c++11 -W -Wall -mtune=generic -msse -msse2 -mfpmath=sse -fvisibility=hidden -U_FORTIFY_SOURCE -O3 -I. -c tokenizer/detokenizer.cpp\n",
            "g++ -o .build/tokenizer-morphodita_tokenizer_wrapper.linux-gcc-normal.o -MMD -MP -std=c++11 -W -Wall -mtune=generic -msse -msse2 -mfpmath=sse -fvisibility=hidden -U_FORTIFY_SOURCE -O3 -I. -c tokenizer/morphodita_tokenizer_wrapper.cpp\n",
            "g++ -o .build/tokenizer-multiword_splitter.linux-gcc-normal.o -MMD -MP -std=c++11 -W -Wall -mtune=generic -msse -msse2 -mfpmath=sse -fvisibility=hidden -U_FORTIFY_SOURCE -O3 -I. -c tokenizer/multiword_splitter.cpp\n",
            "g++ -o .build/tokenizer-multiword_splitter_trainer.linux-gcc-normal.o -MMD -MP -std=c++11 -W -Wall -mtune=generic -msse -msse2 -mfpmath=sse -fvisibility=hidden -U_FORTIFY_SOURCE -O3 -I. -c tokenizer/multiword_splitter_trainer.cpp\n",
            "g++ -o .build/trainer-trainer.linux-gcc-normal.o -MMD -MP -std=c++11 -W -Wall -mtune=generic -msse -msse2 -mfpmath=sse -fvisibility=hidden -U_FORTIFY_SOURCE -O3 -I. -c trainer/trainer.cpp\n",
            "g++ -o .build/trainer-trainer_morphodita_parsito.linux-gcc-normal.o -MMD -MP -std=c++11 -W -Wall -mtune=generic -msse -msse2 -mfpmath=sse -fvisibility=hidden -U_FORTIFY_SOURCE -O3 -I. -c trainer/trainer_morphodita_parsito.cpp\n",
            "g++ -o .build/trainer-training_failure.linux-gcc-normal.o -MMD -MP -std=c++11 -W -Wall -mtune=generic -msse -msse2 -mfpmath=sse -fvisibility=hidden -U_FORTIFY_SOURCE -O3 -I. -c trainer/training_failure.cpp\n",
            "g++ -o .build/unilib-uninorms.linux-gcc-normal.o -MMD -MP -std=c++11 -W -Wall -mtune=generic -msse -msse2 -mfpmath=sse -fvisibility=hidden -U_FORTIFY_SOURCE -O3 -I. -c unilib/uninorms.cpp\n",
            "g++ -o .build/utils-compressor_save.linux-gcc-normal.o -MMD -MP -std=c++11 -W -Wall -mtune=generic -msse -msse2 -mfpmath=sse -fvisibility=hidden -U_FORTIFY_SOURCE -O3 -I. -c utils/compressor_save.cpp\n",
            "g++ -o .build/version-version.linux-gcc-normal.o -MMD -MP -std=c++11 -W -Wall -mtune=generic -msse -msse2 -mfpmath=sse -fvisibility=hidden -U_FORTIFY_SOURCE -O3 -I. -c version/version.cpp\n",
            "g++ -o udpipe -std=c++11 -W -Wall -mtune=generic -msse -msse2 -mfpmath=sse -fvisibility=hidden -U_FORTIFY_SOURCE -O3 -I. .build/udpipe.linux-gcc-normal.o .build/utils-options.linux-gcc-normal.o .build/morphodita-derivator-derivation_formatter.linux-gcc-normal.o .build/morphodita-derivator-derivator_dictionary.linux-gcc-normal.o .build/morphodita-morpho-czech_morpho.linux-gcc-normal.o .build/morphodita-morpho-english_morpho.linux-gcc-normal.o .build/morphodita-morpho-english_morpho_guesser.linux-gcc-normal.o .build/morphodita-morpho-external_morpho.linux-gcc-normal.o .build/morphodita-morpho-generic_morpho.linux-gcc-normal.o .build/morphodita-morpho-morpho.linux-gcc-normal.o .build/morphodita-morpho-morpho_statistical_guesser.linux-gcc-normal.o .build/morphodita-morpho-tag_filter.linux-gcc-normal.o .build/morphodita-tagger-tagger.linux-gcc-normal.o .build/morphodita-tagset_converter-identity_tagset_converter.linux-gcc-normal.o .build/morphodita-tagset_converter-pdt_to_conll2009_tagset_converter.linux-gcc-normal.o .build/morphodita-tagset_converter-strip_lemma_comment_tagset_converter.linux-gcc-normal.o .build/morphodita-tagset_converter-strip_lemma_id_tagset_converter.linux-gcc-normal.o .build/morphodita-tagset_converter-tagset_converter.linux-gcc-normal.o .build/morphodita-tokenizer-czech_tokenizer.linux-gcc-normal.o .build/morphodita-tokenizer-english_tokenizer.linux-gcc-normal.o .build/morphodita-tokenizer-generic_tokenizer.linux-gcc-normal.o .build/morphodita-tokenizer-ragel_tokenizer.linux-gcc-normal.o .build/morphodita-tokenizer-tokenizer.linux-gcc-normal.o .build/morphodita-tokenizer-unicode_tokenizer.linux-gcc-normal.o .build/morphodita-tokenizer-vertical_tokenizer.linux-gcc-normal.o .build/morphodita-version-version.linux-gcc-normal.o .build/parsito-configuration-configuration.linux-gcc-normal.o .build/parsito-configuration-node_extractor.linux-gcc-normal.o .build/parsito-configuration-value_extractor.linux-gcc-normal.o .build/parsito-embedding-embedding.linux-gcc-normal.o .build/parsito-network-neural_network.linux-gcc-normal.o .build/parsito-parser-parser.linux-gcc-normal.o .build/parsito-parser-parser_nn.linux-gcc-normal.o .build/parsito-transition-transition.linux-gcc-normal.o .build/parsito-transition-transition_system.linux-gcc-normal.o .build/parsito-transition-transition_system_link2.linux-gcc-normal.o .build/parsito-transition-transition_system_projective.linux-gcc-normal.o .build/parsito-transition-transition_system_swap.linux-gcc-normal.o .build/parsito-tree-tree.linux-gcc-normal.o .build/parsito-tree-tree_format.linux-gcc-normal.o .build/parsito-tree-tree_format_conllu.linux-gcc-normal.o .build/parsito-version-version.linux-gcc-normal.o .build/unilib-unicode.linux-gcc-normal.o .build/unilib-utf8.linux-gcc-normal.o .build/unilib-version.linux-gcc-normal.o .build/utils-compressor_load.linux-gcc-normal.o .build/model-evaluator.linux-gcc-normal.o .build/model-model.linux-gcc-normal.o .build/model-model_morphodita_parsito.linux-gcc-normal.o .build/model-pipeline.linux-gcc-normal.o .build/morphodita-morpho-generic_morpho_encoder.linux-gcc-normal.o .build/morphodita-morpho-morpho_statistical_guesser_encoder.linux-gcc-normal.o .build/morphodita-morpho-morpho_statistical_guesser_trainer.linux-gcc-normal.o .build/morphodita-morpho-raw_morpho_dictionary_reader.linux-gcc-normal.o .build/morphodita-tokenizer-czech_tokenizer_factory.linux-gcc-normal.o .build/morphodita-tokenizer-czech_tokenizer_factory_encoder.linux-gcc-normal.o .build/morphodita-tokenizer-generic_tokenizer_factory.linux-gcc-normal.o .build/morphodita-tokenizer-generic_tokenizer_factory_encoder.linux-gcc-normal.o .build/morphodita-tokenizer-gru_tokenizer.linux-gcc-normal.o .build/morphodita-tokenizer-gru_tokenizer_factory.linux-gcc-normal.o .build/morphodita-tokenizer-gru_tokenizer_network.linux-gcc-normal.o .build/morphodita-tokenizer-gru_tokenizer_trainer.linux-gcc-normal.o .build/morphodita-tokenizer-tokenizer_factory.linux-gcc-normal.o .build/parsito-embedding-embedding_encode.linux-gcc-normal.o .build/parsito-network-neural_network_trainer.linux-gcc-normal.o .build/parsito-parser-parser_nn_trainer.linux-gcc-normal.o .build/sentence-input_format.linux-gcc-normal.o .build/sentence-output_format.linux-gcc-normal.o .build/sentence-sentence.linux-gcc-normal.o .build/sentence-token.linux-gcc-normal.o .build/tokenizer-detokenizer.linux-gcc-normal.o .build/tokenizer-morphodita_tokenizer_wrapper.linux-gcc-normal.o .build/tokenizer-multiword_splitter.linux-gcc-normal.o .build/tokenizer-multiword_splitter_trainer.linux-gcc-normal.o .build/trainer-trainer.linux-gcc-normal.o .build/trainer-trainer_morphodita_parsito.linux-gcc-normal.o .build/trainer-training_failure.linux-gcc-normal.o .build/unilib-uninorms.linux-gcc-normal.o .build/utils-compressor_save.linux-gcc-normal.o .build/version-version.linux-gcc-normal.o  \n",
            "Usage: udpipe [running_opts] model_file [input_files]\n",
            "       udpipe --train [training_opts] model_file [input_files]\n",
            "       udpipe --detokenize [detokenize_opts] raw_text_file [input_files]\n",
            "Running opts: --accuracy (measure accuracy only)\n",
            "              --input=[conllu|generic_tokenizer|horizontal|vertical]\n",
            "              --immediate (process sentences immediately during loading)\n",
            "              --outfile=output file template\n",
            "              --output=[conllu|epe|matxin|horizontal|plaintext|vertical]\n",
            "              --tokenize (perform tokenization)\n",
            "              --tokenizer=tokenizer options, implies --tokenize\n",
            "              --tag (perform tagging)\n",
            "              --tagger=tagger options, implies --tag\n",
            "              --parse (perform parsing)\n",
            "              --parser=parser options, implies --parse\n",
            "Training opts: --method=[morphodita_parsito] which method to use\n",
            "               --heldout=heldout data file name\n",
            "               --tokenizer=tokenizer options\n",
            "               --tagger=tagger options\n",
            "               --parser=parser options\n",
            "Detokenize opts: --outfile=output file template\n",
            "Generic opts: --version\n",
            "              --help\n"
          ],
          "name": "stdout"
        }
      ]
    },
    {
      "cell_type": "code",
      "metadata": {
        "id": "uE7QW-YQqU4z",
        "colab_type": "code",
        "colab": {
          "base_uri": "https://localhost:8080/",
          "height": 34
        },
        "outputId": "f45ac0fd-d6e2-4d66-d985-8ea04cb3a3aa"
      },
      "source": [
        ""
      ],
      "execution_count": 7,
      "outputs": [
        {
          "output_type": "stream",
          "text": [
            "/content/udpipe/src\n"
          ],
          "name": "stdout"
        }
      ]
    },
    {
      "cell_type": "code",
      "metadata": {
        "id": "5pXJpYyMm7nx",
        "colab_type": "code",
        "outputId": "eb8cdf5e-7aeb-4f8e-f88a-2f9de43c7c0b",
        "colab": {
          "base_uri": "https://localhost:8080/",
          "height": 193
        }
      },
      "source": [
        "#!cp /content/drive/My\\ Drive/nlp/udpipe /bin\n",
        "\n",
        "%cd /content\n",
        "!pip install conllu\n",
        "!git clone https://github.com/brs1977/frame-parsing\n",
        "\n",
        "%cd /content/frame-parsing\n"
      ],
      "execution_count": 8,
      "outputs": [
        {
          "output_type": "stream",
          "text": [
            "/content\n",
            "Requirement already satisfied: conllu in /usr/local/lib/python3.6/dist-packages (2.3)\n",
            "Cloning into 'frame-parsing'...\n",
            "remote: Enumerating objects: 11, done.\u001b[K\n",
            "remote: Counting objects: 100% (11/11), done.\u001b[K\n",
            "remote: Compressing objects: 100% (7/7), done.\u001b[K\n",
            "remote: Total 109 (delta 3), reused 11 (delta 3), pack-reused 98\n",
            "Receiving objects: 100% (109/109), 21.58 MiB | 27.63 MiB/s, done.\n",
            "Resolving deltas: 100% (46/46), done.\n",
            "/content/frame-parsing\n"
          ],
          "name": "stdout"
        }
      ]
    },
    {
      "cell_type": "code",
      "metadata": {
        "id": "E5AiTxl8bVJC",
        "colab_type": "code",
        "outputId": "dddb9ad5-5efc-4260-f6eb-0e3225680760",
        "colab": {
          "base_uri": "https://localhost:8080/",
          "height": 34
        }
      },
      "source": [
        "# !cp /content/udpipe/src/udpipe /content/drive/My\\ Drive/nlp\n",
        "# %cd /content/frame-parsing"
      ],
      "execution_count": 0,
      "outputs": [
        {
          "output_type": "stream",
          "text": [
            "/content/frame-parsing\n"
          ],
          "name": "stdout"
        }
      ]
    },
    {
      "cell_type": "code",
      "metadata": {
        "id": "SHCSukMZo4Xx",
        "colab_type": "code",
        "colab": {}
      },
      "source": [
        "\n",
        "!git pull origin master\n",
        "\n"
      ],
      "execution_count": 0,
      "outputs": []
    },
    {
      "cell_type": "markdown",
      "metadata": {
        "id": "zUnwtAwZv12L",
        "colab_type": "text"
      },
      "source": [
        "#Parsing"
      ]
    },
    {
      "cell_type": "code",
      "metadata": {
        "id": "beCa9cfFm-eJ",
        "colab_type": "code",
        "outputId": "1ba7dd77-377b-4a4b-9148-1db44e4f6623",
        "colab": {
          "base_uri": "https://localhost:8080/",
          "height": 248
        }
      },
      "source": [
        "# del features\n",
        "from create_features import features\n",
        "from sklearn.externals import joblib\n",
        "from pymystem3 import Mystem\n",
        "from collections import OrderedDict\n",
        "from string import whitespace, punctuation\n",
        "\n",
        "clf = joblib.load('frame_parser.pkl')\n",
        "vec = joblib.load('feature_transformer.pkl')\n",
        "\n",
        "def frames(sentence):\n",
        "    header = ('word', 'lex', 'pos', 'gram', 'prev_gr', 'prev_lex', 'rel', 'pred_lemma')\n",
        "    anas = m.analyze(sentence)\n",
        "    fr = OrderedDict()\n",
        "    data = OrderedDict()\n",
        "    for w in anas:\n",
        "        word = w['text']\n",
        "        #if word in whitespace or word in punctuation:\n",
        "        #    continue\n",
        "        try:\n",
        "            gr = w['analysis'][0]['gr']\n",
        "            lex = w['analysis'][0]['lex']\n",
        "        except:\n",
        "            gr, lex = None, None\n",
        "        data[word] = [lex, gr, None, None, None, None]\n",
        "    vector = features(data)\n",
        "    vectors = OrderedDict((k, v) for k,v in vector.items() if k not in whitespace and k not in punctuation)\n",
        "    for w in vectors:\n",
        "        feats = [w] + [str(x) for x in vectors[w]][:-1]\n",
        "        feats = dict(zip(header, feats))\n",
        "        v = vec.transform(feats)\n",
        "        role = clf.predict(v)[0]\n",
        "        fr[w] = role\n",
        "    #print(fr)\n",
        "    return fr\n",
        "    #vector = vec.transform(features)\n",
        "    #return clf.predict(vector)[0][0]\n",
        "\n"
      ],
      "execution_count": 9,
      "outputs": [
        {
          "output_type": "stream",
          "text": [
            "/usr/local/lib/python3.6/dist-packages/sklearn/externals/joblib/__init__.py:15: FutureWarning: sklearn.externals.joblib is deprecated in 0.21 and will be removed in 0.23. Please import this functionality directly from joblib, which can be installed with: pip install joblib. If this warning is raised when loading pickled models, you may need to re-serialize those models with scikit-learn 0.21+.\n",
            "  warnings.warn(msg, category=FutureWarning)\n",
            "/usr/local/lib/python3.6/dist-packages/sklearn/utils/deprecation.py:144: FutureWarning: The sklearn.linear_model.stochastic_gradient module is  deprecated in version 0.22 and will be removed in version 0.24. The corresponding classes / functions should instead be imported from sklearn.linear_model. Anything that cannot be imported from sklearn.linear_model is now part of the private API.\n",
            "  warnings.warn(message, FutureWarning)\n",
            "/usr/local/lib/python3.6/dist-packages/sklearn/utils/deprecation.py:144: FutureWarning: The sklearn.linear_model.sgd_fast module is  deprecated in version 0.22 and will be removed in version 0.24. The corresponding classes / functions should instead be imported from sklearn.linear_model. Anything that cannot be imported from sklearn.linear_model is now part of the private API.\n",
            "  warnings.warn(message, FutureWarning)\n",
            "/usr/local/lib/python3.6/dist-packages/sklearn/base.py:318: UserWarning: Trying to unpickle estimator SGDClassifier from version 0.18.1 when using version 0.22.1. This might lead to breaking code or invalid results. Use at your own risk.\n",
            "  UserWarning)\n",
            "/usr/local/lib/python3.6/dist-packages/sklearn/utils/deprecation.py:144: FutureWarning: The sklearn.feature_extraction.dict_vectorizer module is  deprecated in version 0.22 and will be removed in version 0.24. The corresponding classes / functions should instead be imported from sklearn.feature_extraction. Anything that cannot be imported from sklearn.feature_extraction is now part of the private API.\n",
            "  warnings.warn(message, FutureWarning)\n",
            "/usr/local/lib/python3.6/dist-packages/sklearn/base.py:318: UserWarning: Trying to unpickle estimator DictVectorizer from version 0.18.1 when using version 0.22.1. This might lead to breaking code or invalid results. Use at your own risk.\n",
            "  UserWarning)\n"
          ],
          "name": "stderr"
        }
      ]
    },
    {
      "cell_type": "code",
      "metadata": {
        "id": "yvQG2mRGVM4T",
        "colab_type": "code",
        "outputId": "b5edfa15-ee3d-4bea-e1f1-62007c5e0cfa",
        "colab": {
          "base_uri": "https://localhost:8080/",
          "height": 1000
        }
      },
      "source": [
        "m = Mystem('/bin/mystem')\n",
        "#sentence = 'мама мыла раму'\n",
        "sentence = 'Публичное акционерное общество Мвидео именуемое в дальнейшем Общество является коммерческой организацией созданной в соответствии с Гражданским кодексом Российской Федерации Федеральным законом «Об акционерных обществах» № 208-ФЗ (далее – Закон) и иными нормативными правовыми актами Российской Федерации в целях извлечения прибыли и обладает полной хозяйственной самостоятельностью общество является юридическим лицом и действует на основании настоящего устава и законодательства российской федерации'\n",
        "frames(sentence)\n"
      ],
      "execution_count": 20,
      "outputs": [
        {
          "output_type": "stream",
          "text": [
            "OrderedDict([('id', 16), ('form', 'кодексом'), ('lemma', 'кодекЕС'), ('upostag', 'NOUN'), ('xpostag', 'NN'), ('feats', OrderedDict([('Animacy', 'Anim'), ('Case', 'Ins'), ('Gender', 'Masc'), ('Number', 'Sing')])), ('head', 0), ('deprel', 'root'), ('deps', None), ('misc', None)])\n",
            "OrderedDict([('id', 3), ('form', 'общество'), ('lemma', 'ОБЩЕСТВО'), ('upostag', 'NOUN'), ('xpostag', 'NN'), ('feats', OrderedDict([('Animacy', 'Inan'), ('Case', 'Nom'), ('Gender', 'Neut'), ('Number', 'Sing')])), ('head', 16), ('deprel', 'nsubj'), ('deps', None), ('misc', None)])\n",
            "OrderedDict([('id', 1), ('form', 'Публичное'), ('lemma', 'Публичное'), ('upostag', 'PROPN'), ('xpostag', 'NNP'), ('feats', OrderedDict([('Animacy', 'Anim'), ('Case', 'Nom'), ('Gender', 'Masc'), ('Number', 'Sing')])), ('head', 3), ('deprel', 'nsubj'), ('deps', None), ('misc', OrderedDict([('SpacesAfter', '\\\\s\\\\s\\\\s')]))])\n",
            "OrderedDict([('id', 2), ('form', 'акционерное'), ('lemma', 'акционЕРНЫЙ'), ('upostag', 'ADJ'), ('xpostag', 'JJL'), ('feats', OrderedDict([('Animacy', 'Inan'), ('Case', 'Nom'), ('Gender', 'Neut'), ('Number', 'Sing')])), ('head', 3), ('deprel', 'amod'), ('deps', None), ('misc', None)])\n",
            "OrderedDict([('id', 4), ('form', 'Мвидео'), ('lemma', 'МвИДЕО'), ('upostag', 'NOUN'), ('xpostag', 'NN'), ('feats', OrderedDict([('Animacy', 'Inan'), ('Case', 'Nom'), ('Gender', 'Neut'), ('Number', 'Sing')])), ('head', 3), ('deprel', 'appos'), ('deps', None), ('misc', None)])\n",
            "OrderedDict([('id', 7), ('form', 'дальнейшем'), ('lemma', 'ДАЛЬНЕЙШЕЕ'), ('upostag', 'NOUN'), ('xpostag', 'NN'), ('feats', OrderedDict([('Animacy', 'Inan'), ('Case', 'Loc'), ('Gender', 'Neut'), ('Number', 'Sing')])), ('head', 4), ('deprel', 'nmod'), ('deps', None), ('misc', None)])\n",
            "OrderedDict([('id', 5), ('form', 'именуемое'), ('lemma', 'именуеМОЙ'), ('upostag', 'DET'), ('xpostag', 'PRP$'), ('feats', OrderedDict([('Animacy', 'Inan'), ('Case', 'Nom'), ('Gender', 'Neut'), ('Number', 'Sing'), ('Person', '1')])), ('head', 7), ('deprel', 'det'), ('deps', None), ('misc', None)])\n",
            "OrderedDict([('id', 6), ('form', 'в'), ('lemma', 'В'), ('upostag', 'ADP'), ('xpostag', 'IN'), ('feats', None), ('head', 5), ('deprel', 'case'), ('deps', None), ('misc', None)])\n",
            "OrderedDict([('id', 8), ('form', 'Общество'), ('lemma', 'ОБЩЕСТВО'), ('upostag', 'NOUN'), ('xpostag', 'NN'), ('feats', OrderedDict([('Animacy', 'Inan'), ('Case', 'Nom'), ('Gender', 'Neut'), ('Number', 'Sing')])), ('head', 4), ('deprel', 'nmod'), ('deps', None), ('misc', None)])\n",
            "OrderedDict([('id', 9), ('form', 'является'), ('lemma', 'ЯВЛЯТЬСЯ'), ('upostag', 'AUX'), ('xpostag', 'VBC'), ('feats', OrderedDict([('Aspect', 'Imp'), ('Mood', 'Ind'), ('Number', 'Sing'), ('Person', '3'), ('Tense', 'Pres'), ('VerbForm', 'Fin'), ('Voice', 'Mid')])), ('head', 16), ('deprel', 'cop'), ('deps', None), ('misc', None)])\n",
            "OrderedDict([('id', 10), ('form', 'коммерческой'), ('lemma', 'коммерческой'), ('upostag', 'PROPN'), ('xpostag', 'NNP'), ('feats', OrderedDict([('Animacy', 'Anim'), ('Case', 'Nom'), ('Gender', 'Masc'), ('Number', 'Sing')])), ('head', 16), ('deprel', 'nmod'), ('deps', None), ('misc', None)])\n",
            "OrderedDict([('id', 11), ('form', 'организацией'), ('lemma', 'ОРГАНИЗАЦИЯ'), ('upostag', 'NOUN'), ('xpostag', 'NN'), ('feats', OrderedDict([('Animacy', 'Inan'), ('Case', 'Ins'), ('Gender', 'Fem'), ('Number', 'Sing')])), ('head', 16), ('deprel', 'nmod'), ('deps', None), ('misc', None)])\n",
            "OrderedDict([('id', 13), ('form', 'соответствии'), ('lemma', 'СООТВЕТСТВИЕ'), ('upostag', 'NOUN'), ('xpostag', 'NN'), ('feats', OrderedDict([('Animacy', 'Inan'), ('Case', 'Loc'), ('Gender', 'Neut'), ('Number', 'Sing')])), ('head', 16), ('deprel', 'nmod'), ('deps', None), ('misc', None)])\n",
            "OrderedDict([('id', 12), ('form', 'созданной'), ('lemma', 'СОЗДАТЬ'), ('upostag', 'VERB'), ('xpostag', 'VBNL'), ('feats', OrderedDict([('Animacy', 'Inan'), ('Aspect', 'Perf'), ('Case', 'Gen'), ('Gender', 'Fem'), ('Number', 'Sing'), ('Tense', 'Past'), ('VerbForm', 'Part'), ('Voice', 'Pass')])), ('head', 13), ('deprel', 'acl'), ('deps', None), ('misc', None)])\n",
            "OrderedDict([('id', 15), ('form', 'Гражданским'), ('lemma', 'Гражданским'), ('upostag', 'PROPN'), ('xpostag', 'NNP'), ('feats', OrderedDict([('Animacy', 'Anim'), ('Case', 'Nom'), ('Gender', 'Masc'), ('Number', 'Sing')])), ('head', 16), ('deprel', 'nmod'), ('deps', None), ('misc', None)])\n",
            "OrderedDict([('id', 14), ('form', 'с'), ('lemma', 'С'), ('upostag', 'ADP'), ('xpostag', 'IN'), ('feats', None), ('head', 15), ('deprel', 'case'), ('deps', None), ('misc', None)])\n",
            "OrderedDict([('id', 18), ('form', 'Федерации'), ('lemma', 'ФЕДЕРАЦИЯ'), ('upostag', 'NOUN'), ('xpostag', 'NN'), ('feats', OrderedDict([('Animacy', 'Inan'), ('Case', 'Gen'), ('Gender', 'Fem'), ('Number', 'Sing')])), ('head', 16), ('deprel', 'nmod'), ('deps', None), ('misc', None)])\n",
            "OrderedDict([('id', 17), ('form', 'Российской'), ('lemma', 'РОССИЙСКИЙ'), ('upostag', 'ADJ'), ('xpostag', 'JJL'), ('feats', OrderedDict([('Animacy', 'Inan'), ('Case', 'Gen'), ('Gender', 'Fem'), ('Number', 'Sing')])), ('head', 18), ('deprel', 'amod'), ('deps', None), ('misc', None)])\n",
            "OrderedDict([('id', 20), ('form', 'законом'), ('lemma', 'ЗАКОН'), ('upostag', 'NOUN'), ('xpostag', 'NN'), ('feats', OrderedDict([('Animacy', 'Inan'), ('Case', 'Ins'), ('Gender', 'Masc'), ('Number', 'Sing')])), ('head', 18), ('deprel', 'iobj'), ('deps', None), ('misc', OrderedDict([('SpacesAfter', '\\\\s\\\\s')]))])\n",
            "OrderedDict([('id', 19), ('form', 'Федеральным'), ('lemma', 'ФЕДЕРАЛЬНЫЙ'), ('upostag', 'ADJ'), ('xpostag', 'JJL'), ('feats', OrderedDict([('Animacy', 'Inan'), ('Case', 'Ins'), ('Gender', 'Masc'), ('Number', 'Sing')])), ('head', 20), ('deprel', 'amod'), ('deps', None), ('misc', None)])\n",
            "OrderedDict([('id', 24), ('form', 'обществах'), ('lemma', 'ОБЩЕСТВО'), ('upostag', 'NOUN'), ('xpostag', 'NN'), ('feats', OrderedDict([('Animacy', 'Inan'), ('Case', 'Loc'), ('Gender', 'Neut'), ('Number', 'Plur')])), ('head', 16), ('deprel', 'conj'), ('deps', None), ('misc', None)])\n",
            "OrderedDict([('id', 22), ('form', 'Об'), ('lemma', 'БО'), ('upostag', 'PROPN'), ('xpostag', 'NNP'), ('feats', OrderedDict([('Animacy', 'Anim'), ('Case', 'Nom'), ('Gender', 'Masc'), ('Number', 'Sing')])), ('head', 24), ('deprel', 'nmod'), ('deps', None), ('misc', None)])\n",
            "OrderedDict([('id', 21), ('form', '«'), ('lemma', '«'), ('upostag', 'PUNCT'), ('xpostag', ','), ('feats', None), ('head', 22), ('deprel', 'punct'), ('deps', None), ('misc', None)])\n",
            "OrderedDict([('id', 23), ('form', 'акционерных'), ('lemma', 'акционерных'), ('upostag', 'PROPN'), ('xpostag', 'NNP'), ('feats', OrderedDict([('Animacy', 'Anim'), ('Case', 'Nom'), ('Gender', 'Masc'), ('Number', 'Sing')])), ('head', 22), ('deprel', 'flat'), ('deps', None), ('misc', None)])\n",
            "OrderedDict([('id', 26), ('form', '№'), ('lemma', '№'), ('upostag', 'SYM'), ('xpostag', 'SYM'), ('feats', None), ('head', 24), ('deprel', 'appos'), ('deps', None), ('misc', OrderedDict([('SpacesAfter', '\\\\s\\\\s')]))])\n",
            "OrderedDict([('id', 25), ('form', '»'), ('lemma', '»'), ('upostag', 'PUNCT'), ('xpostag', ','), ('feats', None), ('head', 26), ('deprel', 'punct'), ('deps', None), ('misc', None)])\n",
            "OrderedDict([('id', 27), ('form', '208'), ('lemma', '208'), ('upostag', 'NUM'), ('xpostag', 'CD'), ('feats', OrderedDict([('Case', 'Nom'), ('NumType', 'Card')])), ('head', 26), ('deprel', 'nmod'), ('deps', None), ('misc', None)])\n",
            "OrderedDict([('id', 28), ('form', '-'), ('lemma', '-'), ('upostag', 'PUNCT'), ('xpostag', '-'), ('feats', None), ('head', 27), ('deprel', 'goeswith'), ('deps', None), ('misc', None)])\n",
            "OrderedDict([('id', 29), ('form', 'ФЗ'), ('lemma', 'ФЗ'), ('upostag', 'ADV'), ('xpostag', 'AFX'), ('feats', None), ('head', 27), ('deprel', 'goeswith'), ('deps', None), ('misc', OrderedDict([('SpacesAfter', '\\\\s\\\\s')]))])\n",
            "OrderedDict([('id', 33), ('form', 'Закон'), ('lemma', 'ЗАКОН'), ('upostag', 'NOUN'), ('xpostag', 'NN'), ('feats', OrderedDict([('Animacy', 'Inan'), ('Case', 'Nom'), ('Gender', 'Masc'), ('Number', 'Sing')])), ('head', 24), ('deprel', 'appos'), ('deps', None), ('misc', None)])\n",
            "OrderedDict([('id', 30), ('form', '('), ('lemma', '('), ('upostag', 'PUNCT'), ('xpostag', '('), ('feats', None), ('head', 33), ('deprel', 'punct'), ('deps', None), ('misc', None)])\n",
            "OrderedDict([('id', 31), ('form', 'далее'), ('lemma', 'ДАЛЕЕ'), ('upostag', 'ADV'), ('xpostag', 'RBR'), ('feats', OrderedDict([('Degree', 'Cmp')])), ('head', 33), ('deprel', 'advmod'), ('deps', None), ('misc', OrderedDict([('SpacesAfter', '\\\\s\\\\s')]))])\n",
            "OrderedDict([('id', 32), ('form', '–'), ('lemma', '–'), ('upostag', 'PUNCT'), ('xpostag', ','), ('feats', None), ('head', 33), ('deprel', 'punct'), ('deps', None), ('misc', OrderedDict([('SpacesAfter', '\\\\s\\\\s')]))])\n",
            "OrderedDict([('id', 34), ('form', ')'), ('lemma', ')'), ('upostag', 'PUNCT'), ('xpostag', ')'), ('feats', None), ('head', 33), ('deprel', 'punct'), ('deps', None), ('misc', OrderedDict([('SpacesAfter', '\\\\s\\\\s')]))])\n",
            "OrderedDict([('id', 37), ('form', 'нормативными'), ('lemma', 'нормативными'), ('upostag', 'PROPN'), ('xpostag', 'NNP'), ('feats', OrderedDict([('Animacy', 'Anim'), ('Case', 'Nom'), ('Gender', 'Masc'), ('Number', 'Sing')])), ('head', 16), ('deprel', 'conj'), ('deps', None), ('misc', None)])\n",
            "OrderedDict([('id', 35), ('form', 'и'), ('lemma', 'И'), ('upostag', 'CCONJ'), ('xpostag', 'CC'), ('feats', None), ('head', 37), ('deprel', 'cc'), ('deps', None), ('misc', None)])\n",
            "OrderedDict([('id', 36), ('form', 'иными'), ('lemma', 'ИНОЙ'), ('upostag', 'ADJ'), ('xpostag', 'JJL'), ('feats', OrderedDict([('Animacy', 'Inan'), ('Case', 'Ins'), ('Number', 'Plur')])), ('head', 37), ('deprel', 'amod'), ('deps', None), ('misc', None)])\n",
            "OrderedDict([('id', 38), ('form', 'правовыми'), ('lemma', 'правовыми'), ('upostag', 'PROPN'), ('xpostag', 'NNP'), ('feats', OrderedDict([('Animacy', 'Anim'), ('Case', 'Nom'), ('Gender', 'Masc'), ('Number', 'Sing')])), ('head', 37), ('deprel', 'flat'), ('deps', None), ('misc', None)])\n",
            "OrderedDict([('id', 39), ('form', 'актами'), ('lemma', 'актами'), ('upostag', 'PROPN'), ('xpostag', 'NNP'), ('feats', OrderedDict([('Animacy', 'Anim'), ('Case', 'Nom'), ('Gender', 'Masc'), ('Number', 'Sing')])), ('head', 37), ('deprel', 'flat'), ('deps', None), ('misc', None)])\n",
            "OrderedDict([('id', 40), ('form', 'целях'), ('lemma', 'ЦЕЛЬ'), ('upostag', 'NOUN'), ('xpostag', 'NN'), ('feats', OrderedDict([('Animacy', 'Inan'), ('Case', 'Loc'), ('Gender', 'Fem'), ('Number', 'Plur')])), ('head', 16), ('deprel', 'nmod'), ('deps', None), ('misc', None)])\n",
            "OrderedDict([('id', 41), ('form', 'извлечения'), ('lemma', 'извлечения'), ('upostag', 'PROPN'), ('xpostag', 'NNP'), ('feats', OrderedDict([('Animacy', 'Anim'), ('Case', 'Nom'), ('Gender', 'Masc'), ('Number', 'Sing')])), ('head', 40), ('deprel', 'appos'), ('deps', None), ('misc', None)])\n",
            "OrderedDict([('id', 42), ('form', 'прибыли'), ('lemma', 'ПРИБЫЛЬ'), ('upostag', 'NOUN'), ('xpostag', 'NN'), ('feats', OrderedDict([('Animacy', 'Inan'), ('Case', 'Gen'), ('Gender', 'Fem'), ('Number', 'Sing')])), ('head', 41), ('deprel', 'nmod'), ('deps', None), ('misc', None)])\n",
            "OrderedDict([('id', 43), ('form', 'обладает'), ('lemma', 'обладает'), ('upostag', 'PROPN'), ('xpostag', 'NNP'), ('feats', OrderedDict([('Animacy', 'Anim'), ('Case', 'Nom'), ('Gender', 'Masc'), ('Number', 'Sing')])), ('head', 42), ('deprel', 'appos'), ('deps', None), ('misc', None)])\n",
            "OrderedDict([('id', 44), ('form', 'полной'), ('lemma', 'ПОЛНЫЙ'), ('upostag', 'ADJ'), ('xpostag', 'JJL'), ('feats', OrderedDict([('Animacy', 'Inan'), ('Case', 'Ins'), ('Gender', 'Fem'), ('Number', 'Sing')])), ('head', 43), ('deprel', 'amod'), ('deps', None), ('misc', None)])\n",
            "OrderedDict([('id', 45), ('form', 'хозяйственной'), ('lemma', 'АННхозяйстве'), ('upostag', 'PROPN'), ('xpostag', 'NNP'), ('feats', OrderedDict([('Animacy', 'Anim'), ('Case', 'Ins'), ('Gender', 'Fem'), ('Number', 'Sing')])), ('head', 43), ('deprel', 'flat'), ('deps', None), ('misc', None)])\n",
            "OrderedDict([('id', 46), ('form', 'самостоятельностью'), ('lemma', 'САМОСТОЯТЕЛЬНОСТЬ'), ('upostag', 'NOUN'), ('xpostag', 'NN'), ('feats', OrderedDict([('Animacy', 'Inan'), ('Case', 'Ins'), ('Gender', 'Fem'), ('Number', 'Sing')])), ('head', 40), ('deprel', 'appos'), ('deps', None), ('misc', None)])\n",
            "OrderedDict([('id', 47), ('form', 'юридическим'), ('lemma', 'юридическим'), ('upostag', 'PROPN'), ('xpostag', 'NNP'), ('feats', OrderedDict([('Animacy', 'Anim'), ('Case', 'Nom'), ('Gender', 'Masc'), ('Number', 'Sing')])), ('head', 46), ('deprel', 'appos'), ('deps', None), ('misc', None)])\n",
            "OrderedDict([('id', 48), ('form', 'лицом'), ('lemma', 'лицом'), ('upostag', 'PROPN'), ('xpostag', 'NNP'), ('feats', OrderedDict([('Animacy', 'Anim'), ('Case', 'Nom'), ('Gender', 'Masc'), ('Number', 'Sing')])), ('head', 47), ('deprel', 'flat'), ('deps', None), ('misc', None)])\n",
            "OrderedDict([('id', 49), ('form', 'действует'), ('lemma', 'ДЕЙСТВОВАТЬ'), ('upostag', 'VERB'), ('xpostag', 'VBC'), ('feats', OrderedDict([('Aspect', 'Imp'), ('Mood', 'Ind'), ('Number', 'Sing'), ('Person', '3'), ('Tense', 'Pres'), ('VerbForm', 'Fin')])), ('head', 16), ('deprel', 'parataxis'), ('deps', None), ('misc', None)])\n",
            "OrderedDict([('id', 51), ('form', 'основании'), ('lemma', 'ОСНОВАНИЕ'), ('upostag', 'NOUN'), ('xpostag', 'NN'), ('feats', OrderedDict([('Animacy', 'Inan'), ('Case', 'Loc'), ('Gender', 'Neut'), ('Number', 'Sing')])), ('head', 49), ('deprel', 'obl'), ('deps', None), ('misc', None)])\n",
            "OrderedDict([('id', 50), ('form', 'на'), ('lemma', 'НА'), ('upostag', 'ADP'), ('xpostag', 'IN'), ('feats', None), ('head', 51), ('deprel', 'case'), ('deps', None), ('misc', None)])\n",
            "OrderedDict([('id', 53), ('form', 'устава'), ('lemma', 'уСТАВ'), ('upostag', 'NOUN'), ('xpostag', 'NN'), ('feats', OrderedDict([('Animacy', 'Inan'), ('Case', 'Gen'), ('Gender', 'Masc'), ('Number', 'Sing')])), ('head', 51), ('deprel', 'nmod'), ('deps', None), ('misc', None)])\n",
            "OrderedDict([('id', 52), ('form', 'настоящего'), ('lemma', 'НАСТОЯЩИЙ'), ('upostag', 'ADJ'), ('xpostag', 'JJL'), ('feats', OrderedDict([('Animacy', 'Inan'), ('Case', 'Gen'), ('Gender', 'Neut'), ('Number', 'Sing')])), ('head', 53), ('deprel', 'amod'), ('deps', None), ('misc', None)])\n",
            "OrderedDict([('id', 54), ('form', 'законодательства'), ('lemma', 'законодательства'), ('upostag', 'PROPN'), ('xpostag', 'NNP'), ('feats', OrderedDict([('Animacy', 'Anim'), ('Case', 'Nom'), ('Gender', 'Masc'), ('Number', 'Sing')])), ('head', 49), ('deprel', 'nsubj'), ('deps', None), ('misc', None)])\n",
            "OrderedDict([('id', 55), ('form', 'российской'), ('lemma', 'РОССИЙСКИЙ'), ('upostag', 'ADJ'), ('xpostag', 'JJL'), ('feats', OrderedDict([('Animacy', 'Inan'), ('Case', 'Gen'), ('Gender', 'Fem'), ('Number', 'Sing')])), ('head', 54), ('deprel', 'amod'), ('deps', None), ('misc', None)])\n",
            "OrderedDict([('id', 56), ('form', 'федерации'), ('lemma', 'ФЕДЕРАЦИЯ'), ('upostag', 'NOUN'), ('xpostag', 'NN'), ('feats', OrderedDict([('Animacy', 'Inan'), ('Case', 'Gen'), ('Gender', 'Fem'), ('Number', 'Sing')])), ('head', 54), ('deprel', 'nmod'), ('deps', None), ('misc', OrderedDict([('SpacesAfter', '\\\\s\\\\n\\\\n')]))])\n"
          ],
          "name": "stdout"
        },
        {
          "output_type": "execute_result",
          "data": {
            "text/plain": [
              "OrderedDict([('Публичное', 'пациенс'),\n",
              "             ('акционерное', 'пациенс'),\n",
              "             ('общество', 'конечная точка'),\n",
              "             ('Мвидео', 'экспериенцер'),\n",
              "             ('именуемое', 'конечная точка'),\n",
              "             ('в', 'конечная точка'),\n",
              "             ('дальнейшем', 'пациенс'),\n",
              "             ('Общество', 'экспериенцер'),\n",
              "             ('является', 'экспериенцер'),\n",
              "             ('коммерческой', 'конечная точка'),\n",
              "             ('организацией', 'конечная точка'),\n",
              "             ('созданной', 'конечная точка'),\n",
              "             ('соответствии', 'конечная точка'),\n",
              "             ('с', 'конечная точка'),\n",
              "             ('Гражданским', 'ресурс'),\n",
              "             ('кодексом', 'содержание высказывания'),\n",
              "             ('Российской', 'конечная точка'),\n",
              "             ('Федерации', 'среда'),\n",
              "             ('Федеральным', 'конечная точка'),\n",
              "             ('законом', 'адресат'),\n",
              "             (' «', 'содержание действия'),\n",
              "             ('Об', 'пациенс'),\n",
              "             ('акционерных', 'адресат'),\n",
              "             ('обществах', 'конечная точка'),\n",
              "             ('» № ', 'экспериенцер'),\n",
              "             ('208', 'пациенс'),\n",
              "             ('ФЗ', 'пациенс'),\n",
              "             (' (', 'конечная точка'),\n",
              "             ('далее', 'пациенс'),\n",
              "             (' – ', 'адресат'),\n",
              "             ('Закон', 'пациенс'),\n",
              "             (') ', 'содержание действия'),\n",
              "             ('и', 'пациенс'),\n",
              "             ('иными', 'место'),\n",
              "             ('нормативными', 'агенс'),\n",
              "             ('правовыми', 'инструмент'),\n",
              "             ('актами', 'тема'),\n",
              "             ('целях', 'конечная точка'),\n",
              "             ('извлечения', 'ресурс'),\n",
              "             ('прибыли', 'конечная точка'),\n",
              "             ('обладает', 'конечная точка'),\n",
              "             ('полной', 'конечная точка'),\n",
              "             ('хозяйственной', 'результат'),\n",
              "             ('самостоятельностью', 'экспериенцер'),\n",
              "             ('юридическим', 'конечная точка'),\n",
              "             ('лицом', 'конечная точка'),\n",
              "             ('действует', 'результат'),\n",
              "             ('на', 'конечная точка'),\n",
              "             ('основании', 'содержание действия'),\n",
              "             ('настоящего', 'конечная точка'),\n",
              "             ('устава', 'посессор'),\n",
              "             ('законодательства', 'агенс'),\n",
              "             ('российской', 'экспериенцер'),\n",
              "             ('федерации', 'среда')])"
            ]
          },
          "metadata": {
            "tags": []
          },
          "execution_count": 20
        }
      ]
    },
    {
      "cell_type": "code",
      "metadata": {
        "id": "09kKwdhrYtBe",
        "colab_type": "code",
        "colab": {
          "base_uri": "https://localhost:8080/",
          "height": 1000
        },
        "outputId": "e9c49c97-01c7-4bf3-a867-ecf303189e01"
      },
      "source": [
        "sentence = 'Публичное акционерное общество «М.видео» создано в результате реорганизации в форме преобразования Общества с ограниченной ответственностью «Компания «М.видео» на основании решения Общего собрания участников ООО «Компания «М.видео» (Протокол №14/2006 от «01» июля 2006 года).'\n",
        "frames(sentence)"
      ],
      "execution_count": 21,
      "outputs": [
        {
          "output_type": "stream",
          "text": [
            "OrderedDict([('id', 9), ('form', 'создано'), ('lemma', 'СОЗДАТЬ'), ('upostag', 'VERB'), ('xpostag', 'VBNH'), ('feats', OrderedDict([('Animacy', 'Inan'), ('Aspect', 'Perf'), ('Case', 'Nom'), ('Gender', 'Neut'), ('Number', 'Sing'), ('Tense', 'Past'), ('Variant', 'Short'), ('VerbForm', 'Part'), ('Voice', 'Pass')])), ('head', 0), ('deprel', 'root'), ('deps', None), ('misc', None)])\n",
            "OrderedDict([('id', 3), ('form', 'общество'), ('lemma', 'ОБЩЕСТВО'), ('upostag', 'NOUN'), ('xpostag', 'NN'), ('feats', OrderedDict([('Animacy', 'Inan'), ('Case', 'Nom'), ('Gender', 'Neut'), ('Number', 'Sing')])), ('head', 9), ('deprel', 'nsubj:pass'), ('deps', None), ('misc', OrderedDict([('SpacesAfter', '\\\\s\\\\s')]))])\n",
            "OrderedDict([('id', 1), ('form', 'Публичное'), ('lemma', 'Публичное'), ('upostag', 'PROPN'), ('xpostag', 'NNP'), ('feats', OrderedDict([('Animacy', 'Anim'), ('Case', 'Nom'), ('Gender', 'Masc'), ('Number', 'Sing')])), ('head', 3), ('deprel', 'nsubj'), ('deps', None), ('misc', OrderedDict([('SpacesAfter', '\\\\s\\\\s\\\\s')]))])\n",
            "OrderedDict([('id', 2), ('form', 'акционерное'), ('lemma', 'акционЕРНЫЙ'), ('upostag', 'ADJ'), ('xpostag', 'JJL'), ('feats', OrderedDict([('Animacy', 'Inan'), ('Case', 'Nom'), ('Gender', 'Neut'), ('Number', 'Sing')])), ('head', 3), ('deprel', 'amod'), ('deps', None), ('misc', None)])\n",
            "OrderedDict([('id', 5), ('form', 'М'), ('lemma', 'М'), ('upostag', 'NUM'), ('xpostag', 'CD'), ('feats', OrderedDict([('Animacy', 'Inan'), ('Case', 'Nom'), ('Number', 'Sing'), ('NumType', 'Card')])), ('head', 3), ('deprel', 'nmod'), ('deps', None), ('misc', None)])\n",
            "OrderedDict([('id', 4), ('form', '«'), ('lemma', '«'), ('upostag', 'PUNCT'), ('xpostag', ','), ('feats', None), ('head', 5), ('deprel', 'punct'), ('deps', None), ('misc', None)])\n",
            "OrderedDict([('id', 6), ('form', '.'), ('lemma', '.'), ('upostag', 'PUNCT'), ('xpostag', '.'), ('feats', None), ('head', 3), ('deprel', 'punct'), ('deps', None), ('misc', None)])\n",
            "OrderedDict([('id', 7), ('form', 'видео'), ('lemma', 'вИДЕО'), ('upostag', 'NOUN'), ('xpostag', 'NN'), ('feats', OrderedDict([('Animacy', 'Inan'), ('Case', 'Nom'), ('Gender', 'Neut'), ('Number', 'Sing')])), ('head', 3), ('deprel', 'appos'), ('deps', None), ('misc', None)])\n",
            "OrderedDict([('id', 8), ('form', '»'), ('lemma', '»'), ('upostag', 'PUNCT'), ('xpostag', ','), ('feats', None), ('head', 9), ('deprel', 'punct'), ('deps', None), ('misc', OrderedDict([('SpacesAfter', '\\\\s\\\\s')]))])\n",
            "OrderedDict([('id', 11), ('form', 'результате'), ('lemma', 'РЕЗУЛЬТАТ'), ('upostag', 'NOUN'), ('xpostag', 'NN'), ('feats', OrderedDict([('Animacy', 'Inan'), ('Case', 'Loc'), ('Gender', 'Masc'), ('Number', 'Sing')])), ('head', 9), ('deprel', 'obl'), ('deps', None), ('misc', None)])\n",
            "OrderedDict([('id', 10), ('form', 'в'), ('lemma', 'В'), ('upostag', 'ADP'), ('xpostag', 'IN'), ('feats', None), ('head', 11), ('deprel', 'case'), ('deps', None), ('misc', None)])\n",
            "OrderedDict([('id', 19), ('form', 'Компания'), ('lemma', 'КОМПАНИЯ'), ('upostag', 'NOUN'), ('xpostag', 'NN'), ('feats', OrderedDict([('Animacy', 'Inan'), ('Case', 'Nom'), ('Gender', 'Fem'), ('Number', 'Sing')])), ('head', 11), ('deprel', 'appos'), ('deps', None), ('misc', None)])\n",
            "OrderedDict([('id', 12), ('form', 'реорганизации'), ('lemma', 'РЕОРГАНИЗАЦИЯ'), ('upostag', 'NOUN'), ('xpostag', 'NN'), ('feats', OrderedDict([('Animacy', 'Inan'), ('Case', 'Dat'), ('Gender', 'Fem'), ('Number', 'Sing')])), ('head', 19), ('deprel', 'nmod'), ('deps', None), ('misc', None)])\n",
            "OrderedDict([('id', 13), ('form', 'форме'), ('lemma', 'ФОРМА'), ('upostag', 'NOUN'), ('xpostag', 'NN'), ('feats', OrderedDict([('Animacy', 'Inan'), ('Case', 'Dat'), ('Gender', 'Fem'), ('Number', 'Sing')])), ('head', 19), ('deprel', 'nmod'), ('deps', None), ('misc', None)])\n",
            "OrderedDict([('id', 14), ('form', 'преобразования'), ('lemma', 'преобразования'), ('upostag', 'PROPN'), ('xpostag', 'NNP'), ('feats', OrderedDict([('Animacy', 'Anim'), ('Case', 'Nom'), ('Gender', 'Masc'), ('Number', 'Sing')])), ('head', 19), ('deprel', 'nsubj'), ('deps', None), ('misc', None)])\n",
            "OrderedDict([('id', 15), ('form', 'Общества'), ('lemma', 'ОБЩЕСТВО'), ('upostag', 'NOUN'), ('xpostag', 'NN'), ('feats', OrderedDict([('Animacy', 'Inan'), ('Case', 'Gen'), ('Gender', 'Neut'), ('Number', 'Sing')])), ('head', 14), ('deprel', 'nmod'), ('deps', None), ('misc', None)])\n",
            "OrderedDict([('id', 18), ('form', 'ответственностью'), ('lemma', 'ответственностью'), ('upostag', 'PROPN'), ('xpostag', 'NNP'), ('feats', OrderedDict([('Animacy', 'Anim'), ('Case', 'Nom'), ('Gender', 'Masc'), ('Number', 'Sing')])), ('head', 15), ('deprel', 'nmod'), ('deps', None), ('misc', None)])\n",
            "OrderedDict([('id', 16), ('form', 'с'), ('lemma', 'С'), ('upostag', 'ADP'), ('xpostag', 'IN'), ('feats', None), ('head', 18), ('deprel', 'case'), ('deps', None), ('misc', None)])\n",
            "OrderedDict([('id', 17), ('form', 'ограниченной'), ('lemma', 'ОГРАНИЧИТЬ'), ('upostag', 'VERB'), ('xpostag', 'VBNL'), ('feats', OrderedDict([('Animacy', 'Inan'), ('Aspect', 'Perf'), ('Case', 'Ins'), ('Gender', 'Fem'), ('Number', 'Sing'), ('Tense', 'Past'), ('VerbForm', 'Part'), ('Voice', 'Pass')])), ('head', 18), ('deprel', 'acl'), ('deps', None), ('misc', None)])\n",
            "OrderedDict([('id', 21), ('form', 'основании'), ('lemma', 'ОСНОВАНИЕ'), ('upostag', 'NOUN'), ('xpostag', 'NN'), ('feats', OrderedDict([('Animacy', 'Inan'), ('Case', 'Loc'), ('Gender', 'Neut'), ('Number', 'Sing')])), ('head', 19), ('deprel', 'nmod'), ('deps', None), ('misc', None)])\n",
            "OrderedDict([('id', 20), ('form', 'на'), ('lemma', 'НА'), ('upostag', 'ADP'), ('xpostag', 'IN'), ('feats', None), ('head', 21), ('deprel', 'case'), ('deps', None), ('misc', None)])\n",
            "OrderedDict([('id', 22), ('form', 'решения'), ('lemma', 'РЕШЕНИЕ'), ('upostag', 'NOUN'), ('xpostag', 'NN'), ('feats', OrderedDict([('Animacy', 'Inan'), ('Case', 'Gen'), ('Gender', 'Neut'), ('Number', 'Sing')])), ('head', 21), ('deprel', 'nmod'), ('deps', None), ('misc', None)])\n",
            "OrderedDict([('id', 24), ('form', 'собрания'), ('lemma', 'СОБРАНИЕ'), ('upostag', 'NOUN'), ('xpostag', 'NN'), ('feats', OrderedDict([('Animacy', 'Inan'), ('Case', 'Gen'), ('Gender', 'Neut'), ('Number', 'Sing')])), ('head', 22), ('deprel', 'nmod'), ('deps', None), ('misc', None)])\n",
            "OrderedDict([('id', 23), ('form', 'Общего'), ('lemma', 'ОБЩИЙ'), ('upostag', 'ADJ'), ('xpostag', 'JJL'), ('feats', OrderedDict([('Animacy', 'Inan'), ('Case', 'Gen'), ('Gender', 'Neut'), ('Number', 'Sing')])), ('head', 24), ('deprel', 'amod'), ('deps', None), ('misc', None)])\n",
            "OrderedDict([('id', 25), ('form', 'участников'), ('lemma', 'УЧАСТНИК'), ('upostag', 'NOUN'), ('xpostag', 'NN'), ('feats', OrderedDict([('Animacy', 'Anim'), ('Case', 'Gen'), ('Gender', 'Masc'), ('Number', 'Plur')])), ('head', 24), ('deprel', 'nmod'), ('deps', None), ('misc', None)])\n",
            "OrderedDict([('id', 26), ('form', 'ООО'), ('lemma', 'ООО'), ('upostag', 'PROPN'), ('xpostag', 'NNP'), ('feats', OrderedDict([('Animacy', 'Inan'), ('Case', 'Gen'), ('Gender', 'Masc'), ('Number', 'Sing')])), ('head', 25), ('deprel', 'nmod'), ('deps', None), ('misc', None)])\n",
            "OrderedDict([('id', 27), ('form', '»'), ('lemma', '»'), ('upostag', 'PUNCT'), ('xpostag', ','), ('feats', None), ('head', 19), ('deprel', 'punct'), ('deps', None), ('misc', None)])\n",
            "OrderedDict([('id', 29), ('form', 'Протокол'), ('lemma', 'протОКОЛ'), ('upostag', 'NOUN'), ('xpostag', 'NN'), ('feats', OrderedDict([('Animacy', 'Anim'), ('Case', 'Nom'), ('Gender', 'Masc'), ('Number', 'Sing')])), ('head', 19), ('deprel', 'appos'), ('deps', None), ('misc', OrderedDict([('SpacesAfter', '\\\\s\\\\s')]))])\n",
            "OrderedDict([('id', 28), ('form', '('), ('lemma', '('), ('upostag', 'PUNCT'), ('xpostag', '('), ('feats', None), ('head', 29), ('deprel', 'punct'), ('deps', None), ('misc', None)])\n",
            "OrderedDict([('id', 31), ('form', '14'), ('lemma', '14'), ('upostag', 'NUM'), ('xpostag', 'CD'), ('feats', OrderedDict([('Case', 'Nom'), ('NumType', 'Card')])), ('head', 29), ('deprel', 'conj'), ('deps', None), ('misc', None)])\n",
            "OrderedDict([('id', 30), ('form', '№'), ('lemma', '№'), ('upostag', 'SYM'), ('xpostag', 'SYM'), ('feats', None), ('head', 31), ('deprel', 'punct'), ('deps', None), ('misc', None)])\n",
            "OrderedDict([('id', 33), ('form', '2006'), ('lemma', '2006'), ('upostag', 'ADJ'), ('xpostag', 'ORD'), ('feats', OrderedDict([('Animacy', 'Inan'), ('Case', 'Nom'), ('Gender', 'Masc'), ('Number', 'Sing')])), ('head', 31), ('deprel', 'amod'), ('deps', None), ('misc', None)])\n",
            "OrderedDict([('id', 32), ('form', '/'), ('lemma', '/'), ('upostag', 'SYM'), ('xpostag', 'SYM'), ('feats', None), ('head', 33), ('deprel', 'punct'), ('deps', None), ('misc', None)])\n",
            "OrderedDict([('id', 36), ('form', 'июля'), ('lemma', 'ИЮЛЬ'), ('upostag', 'NOUN'), ('xpostag', 'NN'), ('feats', OrderedDict([('Animacy', 'Inan'), ('Case', 'Gen'), ('Gender', 'Masc'), ('Number', 'Sing')])), ('head', 33), ('deprel', 'nmod'), ('deps', None), ('misc', None)])\n",
            "OrderedDict([('id', 34), ('form', 'от'), ('lemma', 'ОТ'), ('upostag', 'ADP'), ('xpostag', 'IN'), ('feats', None), ('head', 36), ('deprel', 'case'), ('deps', None), ('misc', None)])\n",
            "OrderedDict([('id', 35), ('form', '01'), ('lemma', '01'), ('upostag', 'NUM'), ('xpostag', 'CD'), ('feats', OrderedDict([('Case', 'Nom'), ('NumType', 'Card')])), ('head', 36), ('deprel', 'nummod:gov'), ('deps', None), ('misc', None)])\n",
            "OrderedDict([('id', 37), ('form', 'года'), ('lemma', 'ГОД'), ('upostag', 'NOUN'), ('xpostag', 'NN'), ('feats', OrderedDict([('Animacy', 'Inan'), ('Case', 'Gen'), ('Gender', 'Masc'), ('Number', 'Sing')])), ('head', 36), ('deprel', 'nmod'), ('deps', None), ('misc', None)])\n",
            "OrderedDict([('id', 38), ('form', ')'), ('lemma', ')'), ('upostag', 'PUNCT'), ('xpostag', ')'), ('feats', None), ('head', 29), ('deprel', 'punct'), ('deps', None), ('misc', OrderedDict([('SpacesAfter', '\\\\s\\\\n\\\\n')]))])\n"
          ],
          "name": "stdout"
        },
        {
          "output_type": "execute_result",
          "data": {
            "text/plain": [
              "OrderedDict([('Публичное', 'пациенс'),\n",
              "             ('акционерное', 'пациенс'),\n",
              "             ('общество', 'конечная точка'),\n",
              "             (' «', 'экспериенцер'),\n",
              "             ('М', 'пациенс'),\n",
              "             ('видео', 'пациенс'),\n",
              "             ('» ', 'конечная точка'),\n",
              "             ('создано', 'пациенс'),\n",
              "             ('в', 'конечная точка'),\n",
              "             ('результате', 'пациенс'),\n",
              "             ('реорганизации', 'конечная точка'),\n",
              "             ('форме', 'конечная точка'),\n",
              "             ('преобразования', 'конечная точка'),\n",
              "             ('Общества', 'конечная точка'),\n",
              "             ('с', 'экспериенцер'),\n",
              "             ('ограниченной', 'ресурс'),\n",
              "             ('ответственностью', 'конечная точка'),\n",
              "             ('Компания', 'причина'),\n",
              "             ('на', 'экспериенцер'),\n",
              "             ('основании', 'содержание действия'),\n",
              "             ('решения', 'конечная точка'),\n",
              "             ('Общего', 'признак'),\n",
              "             ('собрания', 'экспериенцер'),\n",
              "             ('участников', 'экспериенцер'),\n",
              "             ('ООО', 'конечная точка'),\n",
              "             ('» (', 'конечная точка'),\n",
              "             ('Протокол', 'пациенс'),\n",
              "             (' №', 'конечная точка'),\n",
              "             ('14', 'пациенс'),\n",
              "             ('2006', 'пациенс'),\n",
              "             ('от', 'пациенс'),\n",
              "             ('01', 'срок'),\n",
              "             ('июля', 'пациенс'),\n",
              "             ('года', 'конечная точка')])"
            ]
          },
          "metadata": {
            "tags": []
          },
          "execution_count": 21
        }
      ]
    },
    {
      "cell_type": "code",
      "metadata": {
        "id": "cwKCOpyyuGlm",
        "colab_type": "code",
        "colab": {
          "base_uri": "https://localhost:8080/",
          "height": 1000
        },
        "outputId": "781fae4d-447f-44e9-8f1a-431c8ba015dc"
      },
      "source": [
        "sentence = '1.2. Фирменное наименование Общества: на русском языке: полное: Публичное акционерное общество «М.видео»; сокращенное: ПАО «М.видео»; на английском языке: полное: Public Joint-Stock Company \"M.video\"; сокращенное: PJSC \"M.video\".'\n",
        "frames(sentence)"
      ],
      "execution_count": 22,
      "outputs": [
        {
          "output_type": "stream",
          "text": [
            "OrderedDict([('id', 4), ('form', 'наименование'), ('lemma', 'НАИМЕНОВАНИЕ'), ('upostag', 'NOUN'), ('xpostag', 'NN'), ('feats', OrderedDict([('Animacy', 'Inan'), ('Case', 'Acc'), ('Gender', 'Neut'), ('Number', 'Sing')])), ('head', 0), ('deprel', 'root'), ('deps', None), ('misc', None)])\n",
            "OrderedDict([('id', 1), ('form', '1.2'), ('lemma', '1.2'), ('upostag', 'NUM'), ('xpostag', 'CD'), ('feats', OrderedDict([('Case', 'Nom'), ('NumType', 'Card')])), ('head', 4), ('deprel', 'nummod'), ('deps', None), ('misc', None)])\n",
            "OrderedDict([('id', 3), ('form', 'Фирменное'), ('lemma', 'Фирменное'), ('upostag', 'PROPN'), ('xpostag', 'NNP'), ('feats', OrderedDict([('Animacy', 'Anim'), ('Case', 'Nom'), ('Gender', 'Masc'), ('Number', 'Sing')])), ('head', 4), ('deprel', 'nmod'), ('deps', None), ('misc', OrderedDict([('SpacesAfter', '\\\\s\\\\s\\\\s')]))])\n",
            "OrderedDict([('id', 2), ('form', '.'), ('lemma', '.'), ('upostag', 'PUNCT'), ('xpostag', '.'), ('feats', None), ('head', 3), ('deprel', 'punct'), ('deps', None), ('misc', OrderedDict([('SpacesAfter', '\\\\s\\\\s')]))])\n",
            "OrderedDict([('id', 5), ('form', 'Общества'), ('lemma', 'ОБЩЕСТВО'), ('upostag', 'NOUN'), ('xpostag', 'NN'), ('feats', OrderedDict([('Animacy', 'Inan'), ('Case', 'Gen'), ('Gender', 'Neut'), ('Number', 'Sing')])), ('head', 4), ('deprel', 'nmod'), ('deps', None), ('misc', None)])\n",
            "OrderedDict([('id', 6), ('form', ':'), ('lemma', ':'), ('upostag', 'PUNCT'), ('xpostag', ':'), ('feats', None), ('head', 4), ('deprel', 'punct'), ('deps', None), ('misc', OrderedDict([('SpacesAfter', '\\\\s\\\\s')]))])\n",
            "OrderedDict([('id', 9), ('form', 'языке'), ('lemma', 'ЯЗЫК'), ('upostag', 'NOUN'), ('xpostag', 'NN'), ('feats', OrderedDict([('Animacy', 'Inan'), ('Case', 'Loc'), ('Gender', 'Masc'), ('Number', 'Sing')])), ('head', 4), ('deprel', 'nmod'), ('deps', None), ('misc', None)])\n",
            "OrderedDict([('id', 7), ('form', 'на'), ('lemma', 'НА'), ('upostag', 'ADP'), ('xpostag', 'IN'), ('feats', None), ('head', 9), ('deprel', 'case'), ('deps', None), ('misc', None)])\n",
            "OrderedDict([('id', 8), ('form', 'русском'), ('lemma', 'РУССКИЙ'), ('upostag', 'ADJ'), ('xpostag', 'JJL'), ('feats', OrderedDict([('Animacy', 'Inan'), ('Case', 'Loc'), ('Gender', 'Masc'), ('Number', 'Sing')])), ('head', 9), ('deprel', 'amod'), ('deps', None), ('misc', None)])\n",
            "OrderedDict([('id', 17), ('form', 'видео'), ('lemma', 'вИДЕО'), ('upostag', 'NOUN'), ('xpostag', 'NN'), ('feats', OrderedDict([('Animacy', 'Inan'), ('Case', 'Nom'), ('Gender', 'Neut'), ('Number', 'Sing')])), ('head', 4), ('deprel', 'appos'), ('deps', None), ('misc', None)])\n",
            "OrderedDict([('id', 11), ('form', 'Публичное'), ('lemma', 'Публичное'), ('upostag', 'PROPN'), ('xpostag', 'NNP'), ('feats', OrderedDict([('Animacy', 'Anim'), ('Case', 'Nom'), ('Gender', 'Masc'), ('Number', 'Sing')])), ('head', 17), ('deprel', 'nmod'), ('deps', None), ('misc', None)])\n",
            "OrderedDict([('id', 10), ('form', 'полное'), ('lemma', 'ПОЛНЫЙ'), ('upostag', 'ADJ'), ('xpostag', 'JJL'), ('feats', OrderedDict([('Animacy', 'Inan'), ('Case', 'Nom'), ('Gender', 'Neut'), ('Number', 'Sing')])), ('head', 11), ('deprel', 'amod'), ('deps', None), ('misc', None)])\n",
            "OrderedDict([('id', 12), ('form', 'акционерное'), ('lemma', 'акционЕРНЫЙ'), ('upostag', 'ADJ'), ('xpostag', 'JJL'), ('feats', OrderedDict([('Animacy', 'Inan'), ('Case', 'Nom'), ('Gender', 'Neut'), ('Number', 'Sing')])), ('head', 11), ('deprel', 'amod'), ('deps', None), ('misc', None)])\n",
            "OrderedDict([('id', 13), ('form', 'общество'), ('lemma', 'ОБЩЕСТВО'), ('upostag', 'NOUN'), ('xpostag', 'NN'), ('feats', OrderedDict([('Animacy', 'Inan'), ('Case', 'Nom'), ('Gender', 'Neut'), ('Number', 'Sing')])), ('head', 17), ('deprel', 'nmod'), ('deps', None), ('misc', OrderedDict([('SpacesAfter', '\\\\s\\\\s')]))])\n",
            "OrderedDict([('id', 14), ('form', '«'), ('lemma', '«'), ('upostag', 'PUNCT'), ('xpostag', ','), ('feats', None), ('head', 17), ('deprel', 'punct'), ('deps', None), ('misc', None)])\n",
            "OrderedDict([('id', 15), ('form', 'М'), ('lemma', 'М'), ('upostag', 'NUM'), ('xpostag', 'CD'), ('feats', OrderedDict([('Animacy', 'Inan'), ('Case', 'Nom'), ('Number', 'Sing'), ('NumType', 'Card')])), ('head', 17), ('deprel', 'amod'), ('deps', None), ('misc', None)])\n",
            "OrderedDict([('id', 16), ('form', '.'), ('lemma', '.'), ('upostag', 'PUNCT'), ('xpostag', '.'), ('feats', None), ('head', 15), ('deprel', 'punct'), ('deps', None), ('misc', None)])\n",
            "OrderedDict([('id', 18), ('form', '»'), ('lemma', '»'), ('upostag', 'PUNCT'), ('xpostag', ','), ('feats', None), ('head', 17), ('deprel', 'punct'), ('deps', None), ('misc', OrderedDict([('SpaceAfter', 'No')]))])\n",
            "OrderedDict([('id', 19), ('form', ';'), ('lemma', ';'), ('upostag', 'PUNCT'), ('xpostag', ':'), ('feats', None), ('head', 4), ('deprel', 'punct'), ('deps', None), ('misc', OrderedDict([('SpacesAfter', '\\\\s\\\\s')]))])\n",
            "OrderedDict([('id', 27), ('form', 'Company'), ('lemma', 'COMPANY'), ('upostag', 'NOUN'), ('xpostag', 'NN'), ('feats', OrderedDict([('Animacy', 'Inan'), ('Case', 'Nom'), ('Gender', 'Neut'), ('Number', 'Sing')])), ('head', 4), ('deprel', 'conj'), ('deps', None), ('misc', OrderedDict([('SpacesAfter', '\\\\s\\\\s')]))])\n",
            "OrderedDict([('id', 20), ('form', 'сокращенное'), ('lemma', 'сокращенное'), ('upostag', 'PROPN'), ('xpostag', 'NNP'), ('feats', OrderedDict([('Animacy', 'Anim'), ('Case', 'Nom'), ('Gender', 'Masc'), ('Number', 'Sing')])), ('head', 27), ('deprel', 'nmod'), ('deps', None), ('misc', None)])\n",
            "OrderedDict([('id', 21), ('form', 'ПАО'), ('lemma', 'пао'), ('upostag', 'PROPN'), ('xpostag', 'NNP'), ('feats', OrderedDict([('Animacy', 'Anim'), ('Case', 'Nom'), ('Gender', 'Masc'), ('Number', 'Sing')])), ('head', 20), ('deprel', 'flat'), ('deps', None), ('misc', None)])\n",
            "OrderedDict([('id', 22), ('form', 'английском'), ('lemma', 'английском'), ('upostag', 'PROPN'), ('xpostag', 'NNP'), ('feats', OrderedDict([('Animacy', 'Anim'), ('Case', 'Nom'), ('Gender', 'Masc'), ('Number', 'Sing')])), ('head', 20), ('deprel', 'flat'), ('deps', None), ('misc', None)])\n",
            "OrderedDict([('id', 24), ('form', 'Joint'), ('lemma', 'Joint'), ('upostag', 'PROPN'), ('xpostag', 'NNP'), ('feats', OrderedDict([('Animacy', 'Anim'), ('Case', 'Nom'), ('Gender', 'Masc'), ('Number', 'Sing')])), ('head', 20), ('deprel', 'flat'), ('deps', None), ('misc', None)])\n",
            "OrderedDict([('id', 23), ('form', 'Public'), ('lemma', 'PUBLIC'), ('upostag', 'ADJ'), ('xpostag', 'JJL'), ('feats', OrderedDict([('Animacy', 'Inan'), ('Case', 'Nom'), ('Gender', 'Fem'), ('Number', 'Sing')])), ('head', 24), ('deprel', 'amod'), ('deps', None), ('misc', None)])\n",
            "OrderedDict([('id', 25), ('form', '-'), ('lemma', '-'), ('upostag', 'PUNCT'), ('xpostag', '-'), ('feats', None), ('head', 24), ('deprel', 'goeswith'), ('deps', None), ('misc', None)])\n",
            "OrderedDict([('id', 26), ('form', 'Stock'), ('lemma', 'StOCK'), ('upostag', 'NOUN'), ('xpostag', 'NN'), ('feats', OrderedDict([('Animacy', 'Inan'), ('Case', 'Nom'), ('Gender', 'Masc'), ('Number', 'Sing')])), ('head', 24), ('deprel', 'goeswith'), ('deps', None), ('misc', None)])\n",
            "OrderedDict([('id', 32), ('form', ';'), ('lemma', ';'), ('upostag', 'PUNCT'), ('xpostag', ':'), ('feats', None), ('head', 27), ('deprel', 'punct'), ('deps', None), ('misc', OrderedDict([('SpacesAfter', '\\\\s\\\\s')]))])\n",
            "OrderedDict([('id', 30), ('form', 'video'), ('lemma', 'vIDEO'), ('upostag', 'NOUN'), ('xpostag', 'NN'), ('feats', OrderedDict([('Animacy', 'Inan'), ('Case', 'Nom'), ('Gender', 'Neut'), ('Number', 'Sing')])), ('head', 32), ('deprel', 'appos'), ('deps', None), ('misc', None)])\n",
            "OrderedDict([('id', 29), ('form', 'M'), ('lemma', 'M'), ('upostag', 'NOUN'), ('xpostag', 'NN'), ('feats', OrderedDict([('Animacy', 'Inan'), ('Case', 'Gen'), ('Gender', 'Masc'), ('Number', 'Plur')])), ('head', 30), ('deprel', 'nmod'), ('deps', None), ('misc', None)])\n",
            "OrderedDict([('id', 28), ('form', '\"'), ('lemma', '\"'), ('upostag', 'PUNCT'), ('xpostag', ','), ('feats', None), ('head', 29), ('deprel', 'punct'), ('deps', None), ('misc', None)])\n",
            "OrderedDict([('id', 31), ('form', '\"'), ('lemma', '\"'), ('upostag', 'PUNCT'), ('xpostag', ','), ('feats', None), ('head', 30), ('deprel', 'punct'), ('deps', None), ('misc', OrderedDict([('SpaceAfter', 'No')]))])\n",
            "OrderedDict([('id', 33), ('form', 'PJSC'), ('lemma', 'PJSC'), ('upostag', 'PROPN'), ('xpostag', 'NNP'), ('feats', OrderedDict([('Animacy', 'Inan'), ('Case', 'Nom'), ('Gender', 'Masc'), ('Number', 'Sing')])), ('head', 4), ('deprel', 'appos'), ('deps', None), ('misc', None)])\n",
            "OrderedDict([('id', 34), ('form', '\"'), ('lemma', '\"'), ('upostag', 'PUNCT'), ('xpostag', ','), ('feats', None), ('head', 4), ('deprel', 'punct'), ('deps', None), ('misc', OrderedDict([('SpacesAfter', '\\\\s\\\\n\\\\n')]))])\n"
          ],
          "name": "stdout"
        },
        {
          "output_type": "execute_result",
          "data": {
            "text/plain": [
              "OrderedDict([('1.2', 'пациенс'),\n",
              "             ('. ', 'пациенс'),\n",
              "             ('Фирменное', 'пациенс'),\n",
              "             ('наименование', 'пациенс'),\n",
              "             ('Общества', 'конечная точка'),\n",
              "             (': ', 'экспериенцер'),\n",
              "             ('на', 'пациенс'),\n",
              "             ('русском', 'содержание действия'),\n",
              "             ('языке', 'потенциальный пациенс'),\n",
              "             ('полное', 'экспериенцер'),\n",
              "             ('Публичное', 'результат'),\n",
              "             ('акционерное', 'конечная точка'),\n",
              "             ('общество', 'конечная точка'),\n",
              "             (' «', 'экспериенцер'),\n",
              "             ('М', 'пациенс'),\n",
              "             ('видео', 'пациенс'),\n",
              "             ('»; ', 'конечная точка'),\n",
              "             ('сокращенное', 'пациенс'),\n",
              "             ('ПАО', 'конечная точка'),\n",
              "             ('английском', 'конечная точка'),\n",
              "             ('Public', 'агенс'),\n",
              "             ('Joint', 'пациенс'),\n",
              "             ('Stock', 'пациенс'),\n",
              "             ('Company', 'пациенс'),\n",
              "             (' \"', 'пациенс'),\n",
              "             ('M', 'пациенс'),\n",
              "             ('video', 'пациенс'),\n",
              "             ('\"; ', 'пациенс'),\n",
              "             ('PJSC', 'пациенс')])"
            ]
          },
          "metadata": {
            "tags": []
          },
          "execution_count": 22
        }
      ]
    },
    {
      "cell_type": "code",
      "metadata": {
        "id": "ieRrvdbNvNNH",
        "colab_type": "code",
        "colab": {}
      },
      "source": [
        "Нужна другая токенизация (не выделяет даты, номера пунктов, неправильно обрабатывает спец символы, не обрабатывает несколько предложений)"
      ],
      "execution_count": 0,
      "outputs": []
    }
  ]
}